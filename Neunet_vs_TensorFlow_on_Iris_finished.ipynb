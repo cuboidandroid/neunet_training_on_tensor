{
  "nbformat": 4,
  "nbformat_minor": 0,
  "metadata": {
    "colab": {
      "provenance": [],
      "toc_visible": true,
      "authorship_tag": "ABX9TyOgZlw9+kA+CkhUiujDXS5z",
      "include_colab_link": true
    },
    "kernelspec": {
      "name": "python3",
      "display_name": "Python 3"
    },
    "language_info": {
      "name": "python"
    }
  },
  "cells": [
    {
      "cell_type": "markdown",
      "metadata": {
        "id": "view-in-github",
        "colab_type": "text"
      },
      "source": [
        "<a href=\"https://colab.research.google.com/github/cuboidandroid/neunet_training_on_tensor/blob/main/Neunet_vs_TensorFlow_on_Iris_finished.ipynb\" target=\"_parent\"><img src=\"https://colab.research.google.com/assets/colab-badge.svg\" alt=\"Open In Colab\"/></a>"
      ]
    },
    {
      "cell_type": "code",
      "execution_count": 1,
      "metadata": {
        "colab": {
          "base_uri": "https://localhost:8080/"
        },
        "id": "qquW4gG-4e_S",
        "outputId": "39069e57-8575-4a3f-c0f2-2394a52810e4"
      },
      "outputs": [
        {
          "output_type": "stream",
          "name": "stdout",
          "text": [
            "Mounted at /content/gdrive\n"
          ]
        }
      ],
      "source": [
        "from google.colab import drive\n",
        "drive.mount('/content/gdrive', force_remount=True)"
      ]
    },
    {
      "cell_type": "code",
      "source": [
        "import sys\n",
        "sys.path.append('gdrive/MyDrive/neunet')"
      ],
      "metadata": {
        "id": "hV02KELu6HMI"
      },
      "execution_count": 2,
      "outputs": []
    },
    {
      "cell_type": "code",
      "source": [
        "from neunet import NeuralNetwork"
      ],
      "metadata": {
        "id": "JOwqrkpQ53SW"
      },
      "execution_count": null,
      "outputs": []
    },
    {
      "cell_type": "code",
      "source": [
        "my_net = NeuralNetwork([4,10,10,3], ['relu', 'relu', 'relu'])\n",
        "print(my_net.weights)\n",
        "print(my_net.betas)"
      ],
      "metadata": {
        "colab": {
          "base_uri": "https://localhost:8080/"
        },
        "id": "xzM9bfms9Dlv",
        "outputId": "bcd277d1-7b1d-4353-904b-17a072293c50"
      },
      "execution_count": null,
      "outputs": [
        {
          "output_type": "stream",
          "name": "stdout",
          "text": [
            "[nan, array([[-0.60422581, -0.75968746,  0.86861246,  0.96874218],\n",
            "       [ 0.88048845,  0.52457485,  0.93420187, -0.8405499 ],\n",
            "       [-0.80005611, -0.95295353,  0.61736403, -0.50190149],\n",
            "       [-0.38998053, -0.50058671,  0.84160678,  0.72869273],\n",
            "       [ 0.27003402, -0.20764174,  0.93561201, -0.80923653],\n",
            "       [ 0.1414986 , -0.07694714,  0.10166778, -0.02322295],\n",
            "       [-0.74762364, -0.1266959 , -0.43930903,  0.06218266],\n",
            "       [-0.62998592, -0.71948436, -0.36930598,  0.09488243],\n",
            "       [-0.83136286, -0.37314471,  0.03392773,  0.99348651],\n",
            "       [-0.79954384,  0.46999409, -0.46209379,  0.90578785]]), array([[ 0.96709437, -0.57029695,  0.3249792 , -0.00622804,  0.01619027,\n",
            "        -0.17974419,  0.95179353, -0.76706887,  0.72246014, -0.53970922],\n",
            "       [ 0.64787136,  0.62076121,  0.25365513, -0.28522694, -0.04250332,\n",
            "        -0.70665312,  0.46092167,  0.91885179, -0.34680018,  0.45049566],\n",
            "       [-0.61452206, -0.02048898, -0.0174658 ,  0.3308647 ,  0.203915  ,\n",
            "        -0.71851936, -0.49241714, -0.1371953 ,  0.473867  ,  0.68131503],\n",
            "       [-0.84971517, -0.33583219, -0.4142466 ,  0.74841073,  0.40915555,\n",
            "         0.66465175,  0.97185739,  0.69642045,  0.56982659, -0.16569189],\n",
            "       [-0.3643751 , -0.69271296, -0.46358559, -0.81907685,  0.55572466,\n",
            "        -0.76680378, -0.62205506, -0.77170842,  0.21766246, -0.94982071],\n",
            "       [-0.1189049 , -0.15194972, -0.1525978 ,  0.35168535, -0.91865219,\n",
            "         0.31603454,  0.61145929,  0.381899  ,  0.92249064,  0.64996939],\n",
            "       [ 0.60245025,  0.91366917,  0.3722629 , -0.82670498,  0.79465684,\n",
            "        -0.90781784,  0.15658081,  0.65137735, -0.94965524, -0.13321105],\n",
            "       [-0.53492052, -0.05070718, -0.65099498,  0.52979376, -0.47165326,\n",
            "         0.82480235,  0.17451869,  0.76820816, -0.34784283,  0.93559511],\n",
            "       [ 0.75739971, -0.76459015, -0.01338111, -0.99845722,  0.87051412,\n",
            "        -0.33956984,  0.11989996, -0.48650067,  0.30161813,  0.46749784],\n",
            "       [ 0.20030468,  0.28733161, -0.29349393,  0.14136606, -0.87235036,\n",
            "        -0.0070088 , -0.72762855, -0.7894947 , -0.46243045,  0.29931875]]), array([[-0.64486668,  0.41930758, -0.43689433,  0.85336565,  0.4369555 ,\n",
            "        -0.93525934, -0.47353656, -0.98905098, -0.97688638, -0.99304244],\n",
            "       [ 0.81258576, -0.2048426 , -0.19065156,  0.34912324, -0.83738784,\n",
            "        -0.08043507, -0.1866814 ,  0.26854137, -0.6986495 , -0.80341852],\n",
            "       [ 0.4018695 ,  0.16139611,  0.33403751,  0.21458619,  0.82158079,\n",
            "         0.30789058, -0.17196828,  0.24768451,  0.46457607, -0.6939178 ]])]\n",
            "[nan, array([[-0.91598391],\n",
            "       [-0.89905068],\n",
            "       [ 0.29627628],\n",
            "       [ 0.22608897],\n",
            "       [-0.55590333],\n",
            "       [-0.21079377],\n",
            "       [ 0.95728538],\n",
            "       [-0.66348831],\n",
            "       [-0.20954873],\n",
            "       [ 0.94427373]]), array([[-0.80481022],\n",
            "       [ 0.58590159],\n",
            "       [ 0.79083986],\n",
            "       [ 0.70939189],\n",
            "       [ 0.7132361 ],\n",
            "       [-0.64815337],\n",
            "       [ 0.37328164],\n",
            "       [ 0.98181802],\n",
            "       [ 0.20623231],\n",
            "       [ 0.88856054]]), array([[-0.7760702 ],\n",
            "       [-0.4544941 ],\n",
            "       [-0.25396402]])]\n"
          ]
        }
      ]
    },
    {
      "cell_type": "code",
      "source": [
        "import seaborn as sns\n",
        "import pandas as pd\n",
        "df = sns.load_dataset('iris')\n",
        "df.head(3)"
      ],
      "metadata": {
        "id": "yshgTGHu9dm1",
        "colab": {
          "base_uri": "https://localhost:8080/",
          "height": 143
        },
        "outputId": "8199d446-524d-4213-cae5-3a92975afc0f"
      },
      "execution_count": 3,
      "outputs": [
        {
          "output_type": "execute_result",
          "data": {
            "text/plain": [
              "   sepal_length  sepal_width  petal_length  petal_width species\n",
              "0           5.1          3.5           1.4          0.2  setosa\n",
              "1           4.9          3.0           1.4          0.2  setosa\n",
              "2           4.7          3.2           1.3          0.2  setosa"
            ],
            "text/html": [
              "\n",
              "  <div id=\"df-ebda9127-d46d-4730-b9e5-8ef384a3137c\" class=\"colab-df-container\">\n",
              "    <div>\n",
              "<style scoped>\n",
              "    .dataframe tbody tr th:only-of-type {\n",
              "        vertical-align: middle;\n",
              "    }\n",
              "\n",
              "    .dataframe tbody tr th {\n",
              "        vertical-align: top;\n",
              "    }\n",
              "\n",
              "    .dataframe thead th {\n",
              "        text-align: right;\n",
              "    }\n",
              "</style>\n",
              "<table border=\"1\" class=\"dataframe\">\n",
              "  <thead>\n",
              "    <tr style=\"text-align: right;\">\n",
              "      <th></th>\n",
              "      <th>sepal_length</th>\n",
              "      <th>sepal_width</th>\n",
              "      <th>petal_length</th>\n",
              "      <th>petal_width</th>\n",
              "      <th>species</th>\n",
              "    </tr>\n",
              "  </thead>\n",
              "  <tbody>\n",
              "    <tr>\n",
              "      <th>0</th>\n",
              "      <td>5.1</td>\n",
              "      <td>3.5</td>\n",
              "      <td>1.4</td>\n",
              "      <td>0.2</td>\n",
              "      <td>setosa</td>\n",
              "    </tr>\n",
              "    <tr>\n",
              "      <th>1</th>\n",
              "      <td>4.9</td>\n",
              "      <td>3.0</td>\n",
              "      <td>1.4</td>\n",
              "      <td>0.2</td>\n",
              "      <td>setosa</td>\n",
              "    </tr>\n",
              "    <tr>\n",
              "      <th>2</th>\n",
              "      <td>4.7</td>\n",
              "      <td>3.2</td>\n",
              "      <td>1.3</td>\n",
              "      <td>0.2</td>\n",
              "      <td>setosa</td>\n",
              "    </tr>\n",
              "  </tbody>\n",
              "</table>\n",
              "</div>\n",
              "    <div class=\"colab-df-buttons\">\n",
              "\n",
              "  <div class=\"colab-df-container\">\n",
              "    <button class=\"colab-df-convert\" onclick=\"convertToInteractive('df-ebda9127-d46d-4730-b9e5-8ef384a3137c')\"\n",
              "            title=\"Convert this dataframe to an interactive table.\"\n",
              "            style=\"display:none;\">\n",
              "\n",
              "  <svg xmlns=\"http://www.w3.org/2000/svg\" height=\"24px\" viewBox=\"0 -960 960 960\">\n",
              "    <path d=\"M120-120v-720h720v720H120Zm60-500h600v-160H180v160Zm220 220h160v-160H400v160Zm0 220h160v-160H400v160ZM180-400h160v-160H180v160Zm440 0h160v-160H620v160ZM180-180h160v-160H180v160Zm440 0h160v-160H620v160Z\"/>\n",
              "  </svg>\n",
              "    </button>\n",
              "\n",
              "  <style>\n",
              "    .colab-df-container {\n",
              "      display:flex;\n",
              "      gap: 12px;\n",
              "    }\n",
              "\n",
              "    .colab-df-convert {\n",
              "      background-color: #E8F0FE;\n",
              "      border: none;\n",
              "      border-radius: 50%;\n",
              "      cursor: pointer;\n",
              "      display: none;\n",
              "      fill: #1967D2;\n",
              "      height: 32px;\n",
              "      padding: 0 0 0 0;\n",
              "      width: 32px;\n",
              "    }\n",
              "\n",
              "    .colab-df-convert:hover {\n",
              "      background-color: #E2EBFA;\n",
              "      box-shadow: 0px 1px 2px rgba(60, 64, 67, 0.3), 0px 1px 3px 1px rgba(60, 64, 67, 0.15);\n",
              "      fill: #174EA6;\n",
              "    }\n",
              "\n",
              "    .colab-df-buttons div {\n",
              "      margin-bottom: 4px;\n",
              "    }\n",
              "\n",
              "    [theme=dark] .colab-df-convert {\n",
              "      background-color: #3B4455;\n",
              "      fill: #D2E3FC;\n",
              "    }\n",
              "\n",
              "    [theme=dark] .colab-df-convert:hover {\n",
              "      background-color: #434B5C;\n",
              "      box-shadow: 0px 1px 3px 1px rgba(0, 0, 0, 0.15);\n",
              "      filter: drop-shadow(0px 1px 2px rgba(0, 0, 0, 0.3));\n",
              "      fill: #FFFFFF;\n",
              "    }\n",
              "  </style>\n",
              "\n",
              "    <script>\n",
              "      const buttonEl =\n",
              "        document.querySelector('#df-ebda9127-d46d-4730-b9e5-8ef384a3137c button.colab-df-convert');\n",
              "      buttonEl.style.display =\n",
              "        google.colab.kernel.accessAllowed ? 'block' : 'none';\n",
              "\n",
              "      async function convertToInteractive(key) {\n",
              "        const element = document.querySelector('#df-ebda9127-d46d-4730-b9e5-8ef384a3137c');\n",
              "        const dataTable =\n",
              "          await google.colab.kernel.invokeFunction('convertToInteractive',\n",
              "                                                    [key], {});\n",
              "        if (!dataTable) return;\n",
              "\n",
              "        const docLinkHtml = 'Like what you see? Visit the ' +\n",
              "          '<a target=\"_blank\" href=https://colab.research.google.com/notebooks/data_table.ipynb>data table notebook</a>'\n",
              "          + ' to learn more about interactive tables.';\n",
              "        element.innerHTML = '';\n",
              "        dataTable['output_type'] = 'display_data';\n",
              "        await google.colab.output.renderOutput(dataTable, element);\n",
              "        const docLink = document.createElement('div');\n",
              "        docLink.innerHTML = docLinkHtml;\n",
              "        element.appendChild(docLink);\n",
              "      }\n",
              "    </script>\n",
              "  </div>\n",
              "\n",
              "\n",
              "<div id=\"df-3d4cf81f-7337-4692-aff9-6069920a8edc\">\n",
              "  <button class=\"colab-df-quickchart\" onclick=\"quickchart('df-3d4cf81f-7337-4692-aff9-6069920a8edc')\"\n",
              "            title=\"Suggest charts\"\n",
              "            style=\"display:none;\">\n",
              "\n",
              "<svg xmlns=\"http://www.w3.org/2000/svg\" height=\"24px\"viewBox=\"0 0 24 24\"\n",
              "     width=\"24px\">\n",
              "    <g>\n",
              "        <path d=\"M19 3H5c-1.1 0-2 .9-2 2v14c0 1.1.9 2 2 2h14c1.1 0 2-.9 2-2V5c0-1.1-.9-2-2-2zM9 17H7v-7h2v7zm4 0h-2V7h2v10zm4 0h-2v-4h2v4z\"/>\n",
              "    </g>\n",
              "</svg>\n",
              "  </button>\n",
              "\n",
              "<style>\n",
              "  .colab-df-quickchart {\n",
              "      --bg-color: #E8F0FE;\n",
              "      --fill-color: #1967D2;\n",
              "      --hover-bg-color: #E2EBFA;\n",
              "      --hover-fill-color: #174EA6;\n",
              "      --disabled-fill-color: #AAA;\n",
              "      --disabled-bg-color: #DDD;\n",
              "  }\n",
              "\n",
              "  [theme=dark] .colab-df-quickchart {\n",
              "      --bg-color: #3B4455;\n",
              "      --fill-color: #D2E3FC;\n",
              "      --hover-bg-color: #434B5C;\n",
              "      --hover-fill-color: #FFFFFF;\n",
              "      --disabled-bg-color: #3B4455;\n",
              "      --disabled-fill-color: #666;\n",
              "  }\n",
              "\n",
              "  .colab-df-quickchart {\n",
              "    background-color: var(--bg-color);\n",
              "    border: none;\n",
              "    border-radius: 50%;\n",
              "    cursor: pointer;\n",
              "    display: none;\n",
              "    fill: var(--fill-color);\n",
              "    height: 32px;\n",
              "    padding: 0;\n",
              "    width: 32px;\n",
              "  }\n",
              "\n",
              "  .colab-df-quickchart:hover {\n",
              "    background-color: var(--hover-bg-color);\n",
              "    box-shadow: 0 1px 2px rgba(60, 64, 67, 0.3), 0 1px 3px 1px rgba(60, 64, 67, 0.15);\n",
              "    fill: var(--button-hover-fill-color);\n",
              "  }\n",
              "\n",
              "  .colab-df-quickchart-complete:disabled,\n",
              "  .colab-df-quickchart-complete:disabled:hover {\n",
              "    background-color: var(--disabled-bg-color);\n",
              "    fill: var(--disabled-fill-color);\n",
              "    box-shadow: none;\n",
              "  }\n",
              "\n",
              "  .colab-df-spinner {\n",
              "    border: 2px solid var(--fill-color);\n",
              "    border-color: transparent;\n",
              "    border-bottom-color: var(--fill-color);\n",
              "    animation:\n",
              "      spin 1s steps(1) infinite;\n",
              "  }\n",
              "\n",
              "  @keyframes spin {\n",
              "    0% {\n",
              "      border-color: transparent;\n",
              "      border-bottom-color: var(--fill-color);\n",
              "      border-left-color: var(--fill-color);\n",
              "    }\n",
              "    20% {\n",
              "      border-color: transparent;\n",
              "      border-left-color: var(--fill-color);\n",
              "      border-top-color: var(--fill-color);\n",
              "    }\n",
              "    30% {\n",
              "      border-color: transparent;\n",
              "      border-left-color: var(--fill-color);\n",
              "      border-top-color: var(--fill-color);\n",
              "      border-right-color: var(--fill-color);\n",
              "    }\n",
              "    40% {\n",
              "      border-color: transparent;\n",
              "      border-right-color: var(--fill-color);\n",
              "      border-top-color: var(--fill-color);\n",
              "    }\n",
              "    60% {\n",
              "      border-color: transparent;\n",
              "      border-right-color: var(--fill-color);\n",
              "    }\n",
              "    80% {\n",
              "      border-color: transparent;\n",
              "      border-right-color: var(--fill-color);\n",
              "      border-bottom-color: var(--fill-color);\n",
              "    }\n",
              "    90% {\n",
              "      border-color: transparent;\n",
              "      border-bottom-color: var(--fill-color);\n",
              "    }\n",
              "  }\n",
              "</style>\n",
              "\n",
              "  <script>\n",
              "    async function quickchart(key) {\n",
              "      const quickchartButtonEl =\n",
              "        document.querySelector('#' + key + ' button');\n",
              "      quickchartButtonEl.disabled = true;  // To prevent multiple clicks.\n",
              "      quickchartButtonEl.classList.add('colab-df-spinner');\n",
              "      try {\n",
              "        const charts = await google.colab.kernel.invokeFunction(\n",
              "            'suggestCharts', [key], {});\n",
              "      } catch (error) {\n",
              "        console.error('Error during call to suggestCharts:', error);\n",
              "      }\n",
              "      quickchartButtonEl.classList.remove('colab-df-spinner');\n",
              "      quickchartButtonEl.classList.add('colab-df-quickchart-complete');\n",
              "    }\n",
              "    (() => {\n",
              "      let quickchartButtonEl =\n",
              "        document.querySelector('#df-3d4cf81f-7337-4692-aff9-6069920a8edc button');\n",
              "      quickchartButtonEl.style.display =\n",
              "        google.colab.kernel.accessAllowed ? 'block' : 'none';\n",
              "    })();\n",
              "  </script>\n",
              "</div>\n",
              "    </div>\n",
              "  </div>\n"
            ]
          },
          "metadata": {},
          "execution_count": 3
        }
      ]
    },
    {
      "cell_type": "code",
      "source": [
        "df = pd.concat([df, pd.get_dummies(df['species'])], axis=1)\n",
        "df.head(3)"
      ],
      "metadata": {
        "colab": {
          "base_uri": "https://localhost:8080/",
          "height": 143
        },
        "id": "xYac2xMRyllM",
        "outputId": "4e3f83c1-ada7-4e31-e412-48fbdff74a0b"
      },
      "execution_count": null,
      "outputs": [
        {
          "output_type": "execute_result",
          "data": {
            "text/plain": [
              "   sepal_length  sepal_width  petal_length  petal_width species  setosa  \\\n",
              "0           5.1          3.5           1.4          0.2  setosa       1   \n",
              "1           4.9          3.0           1.4          0.2  setosa       1   \n",
              "2           4.7          3.2           1.3          0.2  setosa       1   \n",
              "\n",
              "   versicolor  virginica  \n",
              "0           0          0  \n",
              "1           0          0  \n",
              "2           0          0  "
            ],
            "text/html": [
              "\n",
              "  <div id=\"df-e6d8f273-9d80-41da-88c2-6ce6aacf4f72\" class=\"colab-df-container\">\n",
              "    <div>\n",
              "<style scoped>\n",
              "    .dataframe tbody tr th:only-of-type {\n",
              "        vertical-align: middle;\n",
              "    }\n",
              "\n",
              "    .dataframe tbody tr th {\n",
              "        vertical-align: top;\n",
              "    }\n",
              "\n",
              "    .dataframe thead th {\n",
              "        text-align: right;\n",
              "    }\n",
              "</style>\n",
              "<table border=\"1\" class=\"dataframe\">\n",
              "  <thead>\n",
              "    <tr style=\"text-align: right;\">\n",
              "      <th></th>\n",
              "      <th>sepal_length</th>\n",
              "      <th>sepal_width</th>\n",
              "      <th>petal_length</th>\n",
              "      <th>petal_width</th>\n",
              "      <th>species</th>\n",
              "      <th>setosa</th>\n",
              "      <th>versicolor</th>\n",
              "      <th>virginica</th>\n",
              "    </tr>\n",
              "  </thead>\n",
              "  <tbody>\n",
              "    <tr>\n",
              "      <th>0</th>\n",
              "      <td>5.1</td>\n",
              "      <td>3.5</td>\n",
              "      <td>1.4</td>\n",
              "      <td>0.2</td>\n",
              "      <td>setosa</td>\n",
              "      <td>1</td>\n",
              "      <td>0</td>\n",
              "      <td>0</td>\n",
              "    </tr>\n",
              "    <tr>\n",
              "      <th>1</th>\n",
              "      <td>4.9</td>\n",
              "      <td>3.0</td>\n",
              "      <td>1.4</td>\n",
              "      <td>0.2</td>\n",
              "      <td>setosa</td>\n",
              "      <td>1</td>\n",
              "      <td>0</td>\n",
              "      <td>0</td>\n",
              "    </tr>\n",
              "    <tr>\n",
              "      <th>2</th>\n",
              "      <td>4.7</td>\n",
              "      <td>3.2</td>\n",
              "      <td>1.3</td>\n",
              "      <td>0.2</td>\n",
              "      <td>setosa</td>\n",
              "      <td>1</td>\n",
              "      <td>0</td>\n",
              "      <td>0</td>\n",
              "    </tr>\n",
              "  </tbody>\n",
              "</table>\n",
              "</div>\n",
              "    <div class=\"colab-df-buttons\">\n",
              "\n",
              "  <div class=\"colab-df-container\">\n",
              "    <button class=\"colab-df-convert\" onclick=\"convertToInteractive('df-e6d8f273-9d80-41da-88c2-6ce6aacf4f72')\"\n",
              "            title=\"Convert this dataframe to an interactive table.\"\n",
              "            style=\"display:none;\">\n",
              "\n",
              "  <svg xmlns=\"http://www.w3.org/2000/svg\" height=\"24px\" viewBox=\"0 -960 960 960\">\n",
              "    <path d=\"M120-120v-720h720v720H120Zm60-500h600v-160H180v160Zm220 220h160v-160H400v160Zm0 220h160v-160H400v160ZM180-400h160v-160H180v160Zm440 0h160v-160H620v160ZM180-180h160v-160H180v160Zm440 0h160v-160H620v160Z\"/>\n",
              "  </svg>\n",
              "    </button>\n",
              "\n",
              "  <style>\n",
              "    .colab-df-container {\n",
              "      display:flex;\n",
              "      gap: 12px;\n",
              "    }\n",
              "\n",
              "    .colab-df-convert {\n",
              "      background-color: #E8F0FE;\n",
              "      border: none;\n",
              "      border-radius: 50%;\n",
              "      cursor: pointer;\n",
              "      display: none;\n",
              "      fill: #1967D2;\n",
              "      height: 32px;\n",
              "      padding: 0 0 0 0;\n",
              "      width: 32px;\n",
              "    }\n",
              "\n",
              "    .colab-df-convert:hover {\n",
              "      background-color: #E2EBFA;\n",
              "      box-shadow: 0px 1px 2px rgba(60, 64, 67, 0.3), 0px 1px 3px 1px rgba(60, 64, 67, 0.15);\n",
              "      fill: #174EA6;\n",
              "    }\n",
              "\n",
              "    .colab-df-buttons div {\n",
              "      margin-bottom: 4px;\n",
              "    }\n",
              "\n",
              "    [theme=dark] .colab-df-convert {\n",
              "      background-color: #3B4455;\n",
              "      fill: #D2E3FC;\n",
              "    }\n",
              "\n",
              "    [theme=dark] .colab-df-convert:hover {\n",
              "      background-color: #434B5C;\n",
              "      box-shadow: 0px 1px 3px 1px rgba(0, 0, 0, 0.15);\n",
              "      filter: drop-shadow(0px 1px 2px rgba(0, 0, 0, 0.3));\n",
              "      fill: #FFFFFF;\n",
              "    }\n",
              "  </style>\n",
              "\n",
              "    <script>\n",
              "      const buttonEl =\n",
              "        document.querySelector('#df-e6d8f273-9d80-41da-88c2-6ce6aacf4f72 button.colab-df-convert');\n",
              "      buttonEl.style.display =\n",
              "        google.colab.kernel.accessAllowed ? 'block' : 'none';\n",
              "\n",
              "      async function convertToInteractive(key) {\n",
              "        const element = document.querySelector('#df-e6d8f273-9d80-41da-88c2-6ce6aacf4f72');\n",
              "        const dataTable =\n",
              "          await google.colab.kernel.invokeFunction('convertToInteractive',\n",
              "                                                    [key], {});\n",
              "        if (!dataTable) return;\n",
              "\n",
              "        const docLinkHtml = 'Like what you see? Visit the ' +\n",
              "          '<a target=\"_blank\" href=https://colab.research.google.com/notebooks/data_table.ipynb>data table notebook</a>'\n",
              "          + ' to learn more about interactive tables.';\n",
              "        element.innerHTML = '';\n",
              "        dataTable['output_type'] = 'display_data';\n",
              "        await google.colab.output.renderOutput(dataTable, element);\n",
              "        const docLink = document.createElement('div');\n",
              "        docLink.innerHTML = docLinkHtml;\n",
              "        element.appendChild(docLink);\n",
              "      }\n",
              "    </script>\n",
              "  </div>\n",
              "\n",
              "\n",
              "<div id=\"df-653b7d62-558a-4823-a600-b41d768f788a\">\n",
              "  <button class=\"colab-df-quickchart\" onclick=\"quickchart('df-653b7d62-558a-4823-a600-b41d768f788a')\"\n",
              "            title=\"Suggest charts\"\n",
              "            style=\"display:none;\">\n",
              "\n",
              "<svg xmlns=\"http://www.w3.org/2000/svg\" height=\"24px\"viewBox=\"0 0 24 24\"\n",
              "     width=\"24px\">\n",
              "    <g>\n",
              "        <path d=\"M19 3H5c-1.1 0-2 .9-2 2v14c0 1.1.9 2 2 2h14c1.1 0 2-.9 2-2V5c0-1.1-.9-2-2-2zM9 17H7v-7h2v7zm4 0h-2V7h2v10zm4 0h-2v-4h2v4z\"/>\n",
              "    </g>\n",
              "</svg>\n",
              "  </button>\n",
              "\n",
              "<style>\n",
              "  .colab-df-quickchart {\n",
              "      --bg-color: #E8F0FE;\n",
              "      --fill-color: #1967D2;\n",
              "      --hover-bg-color: #E2EBFA;\n",
              "      --hover-fill-color: #174EA6;\n",
              "      --disabled-fill-color: #AAA;\n",
              "      --disabled-bg-color: #DDD;\n",
              "  }\n",
              "\n",
              "  [theme=dark] .colab-df-quickchart {\n",
              "      --bg-color: #3B4455;\n",
              "      --fill-color: #D2E3FC;\n",
              "      --hover-bg-color: #434B5C;\n",
              "      --hover-fill-color: #FFFFFF;\n",
              "      --disabled-bg-color: #3B4455;\n",
              "      --disabled-fill-color: #666;\n",
              "  }\n",
              "\n",
              "  .colab-df-quickchart {\n",
              "    background-color: var(--bg-color);\n",
              "    border: none;\n",
              "    border-radius: 50%;\n",
              "    cursor: pointer;\n",
              "    display: none;\n",
              "    fill: var(--fill-color);\n",
              "    height: 32px;\n",
              "    padding: 0;\n",
              "    width: 32px;\n",
              "  }\n",
              "\n",
              "  .colab-df-quickchart:hover {\n",
              "    background-color: var(--hover-bg-color);\n",
              "    box-shadow: 0 1px 2px rgba(60, 64, 67, 0.3), 0 1px 3px 1px rgba(60, 64, 67, 0.15);\n",
              "    fill: var(--button-hover-fill-color);\n",
              "  }\n",
              "\n",
              "  .colab-df-quickchart-complete:disabled,\n",
              "  .colab-df-quickchart-complete:disabled:hover {\n",
              "    background-color: var(--disabled-bg-color);\n",
              "    fill: var(--disabled-fill-color);\n",
              "    box-shadow: none;\n",
              "  }\n",
              "\n",
              "  .colab-df-spinner {\n",
              "    border: 2px solid var(--fill-color);\n",
              "    border-color: transparent;\n",
              "    border-bottom-color: var(--fill-color);\n",
              "    animation:\n",
              "      spin 1s steps(1) infinite;\n",
              "  }\n",
              "\n",
              "  @keyframes spin {\n",
              "    0% {\n",
              "      border-color: transparent;\n",
              "      border-bottom-color: var(--fill-color);\n",
              "      border-left-color: var(--fill-color);\n",
              "    }\n",
              "    20% {\n",
              "      border-color: transparent;\n",
              "      border-left-color: var(--fill-color);\n",
              "      border-top-color: var(--fill-color);\n",
              "    }\n",
              "    30% {\n",
              "      border-color: transparent;\n",
              "      border-left-color: var(--fill-color);\n",
              "      border-top-color: var(--fill-color);\n",
              "      border-right-color: var(--fill-color);\n",
              "    }\n",
              "    40% {\n",
              "      border-color: transparent;\n",
              "      border-right-color: var(--fill-color);\n",
              "      border-top-color: var(--fill-color);\n",
              "    }\n",
              "    60% {\n",
              "      border-color: transparent;\n",
              "      border-right-color: var(--fill-color);\n",
              "    }\n",
              "    80% {\n",
              "      border-color: transparent;\n",
              "      border-right-color: var(--fill-color);\n",
              "      border-bottom-color: var(--fill-color);\n",
              "    }\n",
              "    90% {\n",
              "      border-color: transparent;\n",
              "      border-bottom-color: var(--fill-color);\n",
              "    }\n",
              "  }\n",
              "</style>\n",
              "\n",
              "  <script>\n",
              "    async function quickchart(key) {\n",
              "      const quickchartButtonEl =\n",
              "        document.querySelector('#' + key + ' button');\n",
              "      quickchartButtonEl.disabled = true;  // To prevent multiple clicks.\n",
              "      quickchartButtonEl.classList.add('colab-df-spinner');\n",
              "      try {\n",
              "        const charts = await google.colab.kernel.invokeFunction(\n",
              "            'suggestCharts', [key], {});\n",
              "      } catch (error) {\n",
              "        console.error('Error during call to suggestCharts:', error);\n",
              "      }\n",
              "      quickchartButtonEl.classList.remove('colab-df-spinner');\n",
              "      quickchartButtonEl.classList.add('colab-df-quickchart-complete');\n",
              "    }\n",
              "    (() => {\n",
              "      let quickchartButtonEl =\n",
              "        document.querySelector('#df-653b7d62-558a-4823-a600-b41d768f788a button');\n",
              "      quickchartButtonEl.style.display =\n",
              "        google.colab.kernel.accessAllowed ? 'block' : 'none';\n",
              "    })();\n",
              "  </script>\n",
              "</div>\n",
              "    </div>\n",
              "  </div>\n"
            ]
          },
          "metadata": {},
          "execution_count": 6
        }
      ]
    },
    {
      "cell_type": "code",
      "source": [
        "X = df.iloc[:, 0:4]\n",
        "y = df.loc[:, ['setosa', 'versicolor', 'virginica']]\n",
        "print('features= ', list(X.columns), '\\nlabels= ', list(y.columns))"
      ],
      "metadata": {
        "colab": {
          "base_uri": "https://localhost:8080/"
        },
        "id": "o6R0oFNF6ylf",
        "outputId": "bbaace17-d048-4826-95e1-0e0e476c8d94"
      },
      "execution_count": null,
      "outputs": [
        {
          "output_type": "stream",
          "name": "stdout",
          "text": [
            "features=  ['sepal_length', 'sepal_width', 'petal_length', 'petal_width'] \n",
            "labels=  ['setosa', 'versicolor', 'virginica']\n"
          ]
        }
      ]
    },
    {
      "cell_type": "code",
      "source": [
        "from sklearn.model_selection import train_test_split\n",
        "\n",
        "X_train, X_test, y_train, y_test = train_test_split(X, y, test_size=0.2, random_state=0)"
      ],
      "metadata": {
        "id": "ij5vXi_WzS-m"
      },
      "execution_count": null,
      "outputs": []
    },
    {
      "cell_type": "code",
      "source": [
        "import numpy as np\n",
        "import matplotlib.pyplot as plt\n",
        "from sklearn.metrics import accuracy_score"
      ],
      "metadata": {
        "id": "81wyoUfL4fXK"
      },
      "execution_count": null,
      "outputs": []
    },
    {
      "cell_type": "markdown",
      "source": [
        "# Let the learning begin (SGD)"
      ],
      "metadata": {
        "id": "Ge0yo_sE009U"
      }
    },
    {
      "cell_type": "code",
      "source": [
        "my_net = NeuralNetwork([4,10,10,3], ['relu', 'relu', 'relu'])\n",
        "learning_rate = 0.001\n",
        "error_before = []\n",
        "error_after = []\n",
        "for u in range(300_000):\n",
        "  i = np.random.choice(X_train.index)\n",
        "\n",
        "  example = X_train.loc[i, :]\n",
        "  label = y_train.loc[i, :]\n",
        "\n",
        "  x = example.astype(float).to_numpy().reshape((4,1))\n",
        "  y = label.astype(float).to_numpy().reshape((3,1))\n",
        "\n",
        "  y_hat = my_net.forward_pass(x)\n",
        "  deltas = my_net.backward_pass(y_hat, y)\n",
        "\n",
        "  my_net.update_weights(y_hat, deltas, learning_rate)\n",
        "  my_net.update_biases(deltas, learning_rate)\n",
        "\n",
        "  y_hat2 = my_net.forward_pass(x)\n",
        "\n",
        "  error_before.append(sum((y_hat[-1] - y)**2))\n",
        "  error_after.append(sum((y_hat2[-1] - y)**2))\n",
        "\n",
        "  if u % 5000 == 0:\n",
        "      print(f'iteration {u} error before {sum((y_hat[-1] - y)**2)} error after {sum((y_hat2[-1] - y)**2)}')\n",
        "\n",
        "plt.plot(error_before[10000::5000], '--')\n",
        "plt.plot(error_after[10000::5000], 'k.--')"
      ],
      "metadata": {
        "colab": {
          "base_uri": "https://localhost:8080/",
          "height": 1000
        },
        "id": "DGXxcxCf0ulR",
        "outputId": "4b7c0551-fca5-4952-d25e-8a44b9335a53"
      },
      "execution_count": null,
      "outputs": [
        {
          "output_type": "stream",
          "name": "stdout",
          "text": [
            "iteration 0 error before [37.52108632] error after [18.3315814]\n",
            "iteration 5000 error before [0.06304379] error after [0.05405302]\n",
            "iteration 10000 error before [0.40012009] error after [0.26887435]\n",
            "iteration 15000 error before [0.69585762] error after [0.38438679]\n",
            "iteration 20000 error before [0.02026721] error after [0.01724823]\n",
            "iteration 25000 error before [0.00403627] error after [0.00373192]\n",
            "iteration 30000 error before [0.02138151] error after [0.01975976]\n",
            "iteration 35000 error before [0.00381383] error after [0.00328808]\n",
            "iteration 40000 error before [0.01480273] error after [0.01266132]\n",
            "iteration 45000 error before [0.00179877] error after [0.00125122]\n",
            "iteration 50000 error before [0.00069118] error after [0.00059931]\n",
            "iteration 55000 error before [0.12440826] error after [0.08552798]\n",
            "iteration 60000 error before [0.00076659] error after [0.00057816]\n",
            "iteration 65000 error before [0.50429842] error after [0.35979871]\n",
            "iteration 70000 error before [0.00276983] error after [0.00256156]\n",
            "iteration 75000 error before [0.00427852] error after [0.00379723]\n",
            "iteration 80000 error before [0.24104396] error after [0.10544974]\n",
            "iteration 85000 error before [0.02375841] error after [0.02113734]\n",
            "iteration 90000 error before [0.32295021] error after [0.24303384]\n",
            "iteration 95000 error before [0.00285962] error after [0.00206575]\n",
            "iteration 100000 error before [0.0079595] error after [0.00729245]\n",
            "iteration 105000 error before [0.33766385] error after [0.15478081]\n",
            "iteration 110000 error before [0.00593647] error after [0.00530627]\n",
            "iteration 115000 error before [0.0063966] error after [0.00592414]\n",
            "iteration 120000 error before [0.00015878] error after [0.00014656]\n",
            "iteration 125000 error before [0.06502078] error after [0.05225486]\n",
            "iteration 130000 error before [0.00421045] error after [0.00395235]\n",
            "iteration 135000 error before [3.58707071e-05] error after [3.0795683e-05]\n",
            "iteration 140000 error before [0.00700548] error after [0.00625342]\n",
            "iteration 145000 error before [0.00381296] error after [0.00331759]\n",
            "iteration 150000 error before [0.19785039] error after [0.16234907]\n",
            "iteration 155000 error before [0.00362522] error after [0.00333964]\n",
            "iteration 160000 error before [0.00304052] error after [0.0026746]\n",
            "iteration 165000 error before [0.0141099] error after [0.0129878]\n",
            "iteration 170000 error before [0.00119601] error after [0.0011003]\n",
            "iteration 175000 error before [8.69263461e-06] error after [7.57509226e-06]\n",
            "iteration 180000 error before [0.00106883] error after [0.00089608]\n",
            "iteration 185000 error before [0.00102115] error after [0.00084676]\n",
            "iteration 190000 error before [0.02371135] error after [0.02157933]\n",
            "iteration 195000 error before [0.00188231] error after [0.00176903]\n",
            "iteration 200000 error before [0.00231893] error after [0.00215294]\n",
            "iteration 205000 error before [0.00067037] error after [0.00056886]\n",
            "iteration 210000 error before [0.25651477] error after [0.19344002]\n",
            "iteration 215000 error before [0.00887425] error after [0.00828772]\n",
            "iteration 220000 error before [0.00227952] error after [0.00198906]\n",
            "iteration 225000 error before [3.90418851e-07] error after [3.292943e-07]\n",
            "iteration 230000 error before [8.51187317e-05] error after [8.03236248e-05]\n",
            "iteration 235000 error before [0.01423452] error after [0.01316973]\n",
            "iteration 240000 error before [0.00149587] error after [0.00131397]\n",
            "iteration 245000 error before [0.00435541] error after [0.00391017]\n",
            "iteration 250000 error before [0.00540212] error after [0.00478486]\n",
            "iteration 255000 error before [4.26879587e-06] error after [3.72109903e-06]\n",
            "iteration 260000 error before [0.00067593] error after [0.00061468]\n",
            "iteration 265000 error before [0.1551829] error after [0.09359358]\n",
            "iteration 270000 error before [0.00065232] error after [0.00054481]\n",
            "iteration 275000 error before [0.01349974] error after [0.01205915]\n",
            "iteration 280000 error before [0.00799598] error after [0.00767704]\n",
            "iteration 285000 error before [0.00099978] error after [0.00083666]\n",
            "iteration 290000 error before [0.01201134] error after [0.01090608]\n",
            "iteration 295000 error before [7.09243529e-06] error after [5.51071077e-06]\n"
          ]
        },
        {
          "output_type": "execute_result",
          "data": {
            "text/plain": [
              "[<matplotlib.lines.Line2D at 0x7dbec8c84160>]"
            ]
          },
          "metadata": {},
          "execution_count": 14
        },
        {
          "output_type": "display_data",
          "data": {
            "text/plain": [
              "<Figure size 640x480 with 1 Axes>"
            ],
            "image/png": "[encoded data removed]"
          },
          "metadata": {}
        }
      ]
    },
    {
      "cell_type": "markdown",
      "source": [
        "# Score on train data"
      ],
      "metadata": {
        "id": "7HEeeilP6EeC"
      }
    },
    {
      "cell_type": "code",
      "source": [
        "normalized_labels = []\n",
        "normalized_predictions = []\n",
        "\n",
        "for i in X_train.index:\n",
        "    example = X_train.loc[i, :]\n",
        "    label = y_train.loc[i, :]\n",
        "    x = example.astype(float).to_numpy().reshape((4,1))\n",
        "    y = label.astype(float).to_numpy().reshape((3,1))\n",
        "    y_hat = my_net.forward_pass(x)\n",
        "    normalized_label = [bool(x) for x in label.to_list()]\n",
        "    normalized_prediction = list((y_hat[-1]==max(y_hat[-1])).ravel())\n",
        "    normalized_labels.append(normalized_label)\n",
        "    normalized_predictions.append(normalized_prediction)\n",
        "\n",
        "acc = accuracy_score(normalized_labels, normalized_predictions)\n",
        "print(acc)"
      ],
      "metadata": {
        "colab": {
          "base_uri": "https://localhost:8080/"
        },
        "id": "TX-XreLU01qY",
        "outputId": "fcaa7678-28b3-4f99-a0b2-cbe5b800548a"
      },
      "execution_count": null,
      "outputs": [
        {
          "output_type": "stream",
          "name": "stdout",
          "text": [
            "0.9916666666666667\n"
          ]
        }
      ]
    },
    {
      "cell_type": "markdown",
      "source": [
        "# Score on test data"
      ],
      "metadata": {
        "id": "bPIubfYM6G8D"
      }
    },
    {
      "cell_type": "code",
      "source": [
        "\n",
        "normalized_labels = []\n",
        "normalized_predictions = []\n",
        "\n",
        "for i in X_test.index:\n",
        "    example = X_test.loc[i, :]\n",
        "    label = y_test.loc[i, :]\n",
        "    x = example.astype(float).to_numpy().reshape((4,1))\n",
        "    y = label.astype(float).to_numpy().reshape((3,1))\n",
        "    y_hat = my_net.forward_pass(x)\n",
        "    normalized_label = [bool(x) for x in label.to_list()]\n",
        "    normalized_prediction = list((y_hat[-1]==max(y_hat[-1])).ravel())\n",
        "    normalized_labels.append(normalized_label)\n",
        "    normalized_predictions.append(normalized_prediction)\n",
        "\n",
        "acc = accuracy_score(normalized_labels, normalized_predictions)\n",
        "print(acc)"
      ],
      "metadata": {
        "colab": {
          "base_uri": "https://localhost:8080/"
        },
        "id": "kieAceAx6IaM",
        "outputId": "f3338825-7b1a-4108-d2d6-9197c0dc5a96"
      },
      "execution_count": null,
      "outputs": [
        {
          "output_type": "stream",
          "name": "stdout",
          "text": [
            "1.0\n"
          ]
        }
      ]
    },
    {
      "cell_type": "markdown",
      "source": [
        "# Save and reuse"
      ],
      "metadata": {
        "id": "8N1I1tzo4MPT"
      }
    },
    {
      "cell_type": "code",
      "source": [
        "import pickle\n",
        "with open('/content/gdrive/MyDrive/iris_estim.pkl', 'wb') as f:\n",
        "    pickle.dump(my_net, f)"
      ],
      "metadata": {
        "id": "fdL1MT0WI5C4"
      },
      "execution_count": null,
      "outputs": []
    },
    {
      "cell_type": "code",
      "source": [
        "with open('/content/gdrive/MyDrive/iris_estim.pkl', 'rb') as f:\n",
        "    loaded_net = pickle.load(f)\n",
        "\n",
        "print(loaded_net.weights)\n",
        "print(loaded_net.betas)"
      ],
      "metadata": {
        "colab": {
          "base_uri": "https://localhost:8080/"
        },
        "id": "rUSYP-zsqN4t",
        "outputId": "259fe568-2220-42b8-d2cb-a1497bc19df2"
      },
      "execution_count": null,
      "outputs": [
        {
          "output_type": "stream",
          "name": "stdout",
          "text": [
            "[nan, array([[-0.48319987,  0.41591316, -0.07044323, -0.99685355],\n",
            "       [-0.81087614, -0.57860047,  0.39396169, -0.90117737],\n",
            "       [ 0.5638826 ,  0.8467719 , -0.05081161, -1.14810223],\n",
            "       [-0.01039802, -0.15342518, -0.25208379,  0.84778692],\n",
            "       [ 0.47420532, -0.62978649,  0.01484925, -0.9194056 ],\n",
            "       [ 0.111348  , -0.48387328, -0.92028365,  0.94257403],\n",
            "       [-0.80897088,  0.37587684,  0.35667661,  0.46884875],\n",
            "       [ 0.05538118,  0.17503216, -0.92473204, -0.31564399],\n",
            "       [ 0.4554186 , -0.22342288, -0.67715246, -0.78358952],\n",
            "       [-0.04981807, -0.65897665,  1.15895974,  0.37481805]]), array([[ 0.17378608,  0.70474587,  0.7561494 , -0.22512714, -0.17892268,\n",
            "         0.50401166, -0.29047226, -0.88847109, -0.17880598, -0.89783169],\n",
            "       [ 0.80253799,  0.12033352,  0.31854551, -0.33801822,  0.20865268,\n",
            "         0.90668734,  0.87451028,  0.28510901, -0.62295971, -0.94479099],\n",
            "       [ 0.39748642, -0.60192985, -0.35253469, -0.71456511, -0.6166439 ,\n",
            "         0.62142352, -0.0102762 , -0.69957274, -0.57303453, -0.22388684],\n",
            "       [-0.21176645,  0.4865268 ,  0.55673205, -0.65925794, -0.57222227,\n",
            "        -0.50925163, -0.93001522,  0.11393181, -0.26330005,  0.2103388 ],\n",
            "       [-0.72968073,  0.38747267,  0.26599224,  0.80653939, -1.13387972,\n",
            "         0.3634688 ,  0.21711549,  0.56051776, -0.2841379 ,  0.48622595],\n",
            "       [-0.33740274,  0.86488215, -0.87379556, -0.54613865, -0.3366496 ,\n",
            "         0.61189859, -0.65798983, -0.67671557, -0.97655986,  0.3295766 ],\n",
            "       [ 0.23141279,  0.11076769, -0.72807596,  0.33237825, -0.97693537,\n",
            "        -0.92928913,  0.86191226,  0.80155307, -0.23173462,  0.06590972],\n",
            "       [ 0.09959632, -0.90495142, -0.74551375, -0.10921825, -0.68941157,\n",
            "         0.99547799, -0.76105794, -0.82725348,  0.26795488, -0.32479231],\n",
            "       [ 0.67329336,  0.28959988, -0.49240552, -0.37662594, -0.67857598,\n",
            "         0.49505182, -0.6863142 , -0.44404873,  0.51039081,  0.64554267],\n",
            "       [-0.5142091 ,  0.43820724, -0.54559045, -0.89807972,  0.3240444 ,\n",
            "         0.21854256, -0.00315111, -0.00379799, -0.60605871,  0.40937892]]), array([[ 0.82803445, -0.21296833, -0.93265589, -1.02325416,  0.23478548,\n",
            "        -0.99836414, -0.98210635,  0.49995689,  0.89946228, -0.65991919],\n",
            "       [ 0.30638674, -0.77233802, -0.63548613, -0.62493542,  0.36073022,\n",
            "         0.67944073,  0.69665721,  0.64858446, -1.23674363,  0.51087985],\n",
            "       [-0.91661687,  0.54359096, -0.86737682,  0.0696738 ,  0.25352727,\n",
            "        -0.35425686, -0.7175687 ,  0.06154323,  0.19422992,  0.79429465]])]\n",
            "[nan, array([[ 0.99063854],\n",
            "       [-0.26634278],\n",
            "       [-0.07575106],\n",
            "       [-0.80920222],\n",
            "       [ 0.51864243],\n",
            "       [ 0.12011053],\n",
            "       [ 0.2011714 ],\n",
            "       [ 0.04175298],\n",
            "       [-0.78152585],\n",
            "       [-0.69968366]]), array([[ 0.45023934],\n",
            "       [ 0.59338854],\n",
            "       [ 0.97957647],\n",
            "       [-0.80034522],\n",
            "       [-0.12496914],\n",
            "       [-0.83633814],\n",
            "       [ 0.77405598],\n",
            "       [ 0.42949554],\n",
            "       [ 0.08142963],\n",
            "       [-0.86663627]]), array([[-0.36941464],\n",
            "       [ 1.14876922],\n",
            "       [-0.06305612]])]\n"
          ]
        }
      ]
    },
    {
      "cell_type": "code",
      "source": [
        "example_setosa = np.array([[5.1,\t3.5,\t1.4,\t0.2]]).reshape((4,1))\n",
        "loaded_net.forward_pass(example_setosa)"
      ],
      "metadata": {
        "colab": {
          "base_uri": "https://localhost:8080/"
        },
        "id": "FR4Q8Mb7qXtj",
        "outputId": "95520b18-29db-4306-9c82-98ee2f950315"
      },
      "execution_count": null,
      "outputs": [
        {
          "output_type": "execute_result",
          "data": {
            "text/plain": [
              "[array([[5.1],\n",
              "        [3.5],\n",
              "        [1.4],\n",
              "        [0.2]]),\n",
              " array([[0.        ],\n",
              "        [0.        ],\n",
              "        [5.46299517],\n",
              "        [0.        ],\n",
              "        [0.56974467],\n",
              "        [0.        ],\n",
              "        [0.        ],\n",
              "        [0.        ],\n",
              "        [0.        ],\n",
              "        [0.        ]]),\n",
              " array([[4.4791396 ],\n",
              "        [2.45247986],\n",
              "        [0.        ],\n",
              "        [1.91505871],\n",
              "        [0.68212326],\n",
              "        [0.        ],\n",
              "        [0.        ],\n",
              "        [0.        ],\n",
              "        [0.        ],\n",
              "        [0.        ]]),\n",
              " array([[1.01772757],\n",
              "        [0.        ],\n",
              "        [0.        ]])]"
            ]
          },
          "metadata": {},
          "execution_count": 47
        }
      ]
    },
    {
      "cell_type": "code",
      "source": [],
      "metadata": {
        "id": "v7vIzYrAuQnN"
      },
      "execution_count": null,
      "outputs": []
    },
    {
      "cell_type": "markdown",
      "source": [
        "# Tensorflow Portion"
      ],
      "metadata": {
        "id": "i8WpUsTkEXvC"
      }
    },
    {
      "cell_type": "code",
      "source": [
        "import pandas as pd\n",
        "import numpy as np\n",
        "import seaborn as sns\n",
        "from tensorflow import keras"
      ],
      "metadata": {
        "id": "jsJqMhFoEaDE"
      },
      "execution_count": 4,
      "outputs": []
    },
    {
      "cell_type": "code",
      "source": [
        "df = sns.load_dataset('iris')\n",
        "# Omiting standard scaling for now"
      ],
      "metadata": {
        "id": "sc7dM4mUE18L"
      },
      "execution_count": 7,
      "outputs": []
    },
    {
      "cell_type": "code",
      "source": [
        "# lets use this and categorical encoder from keras instead of pd.get_dummies() as previously\n",
        "from sklearn.preprocessing import LabelEncoder\n",
        "le = LabelEncoder()\n",
        "df['speciesEncoded'] = le.fit_transform(df['species'])\n",
        "df.head()"
      ],
      "metadata": {
        "colab": {
          "base_uri": "https://localhost:8080/",
          "height": 206
        },
        "id": "F29tUVP6F5o0",
        "outputId": "27bfbe11-34fe-42bc-c6fa-d2b2f0a198e3"
      },
      "execution_count": 8,
      "outputs": [
        {
          "output_type": "execute_result",
          "data": {
            "text/plain": [
              "   sepal_length  sepal_width  petal_length  petal_width species  \\\n",
              "0           5.1          3.5           1.4          0.2  setosa   \n",
              "1           4.9          3.0           1.4          0.2  setosa   \n",
              "2           4.7          3.2           1.3          0.2  setosa   \n",
              "3           4.6          3.1           1.5          0.2  setosa   \n",
              "4           5.0          3.6           1.4          0.2  setosa   \n",
              "\n",
              "   speciesEncoded  \n",
              "0               0  \n",
              "1               0  \n",
              "2               0  \n",
              "3               0  \n",
              "4               0  "
            ],
            "text/html": [
              "\n",
              "  <div id=\"df-e45146ff-31bc-4082-9747-d8d9827c6919\" class=\"colab-df-container\">\n",
              "    <div>\n",
              "<style scoped>\n",
              "    .dataframe tbody tr th:only-of-type {\n",
              "        vertical-align: middle;\n",
              "    }\n",
              "\n",
              "    .dataframe tbody tr th {\n",
              "        vertical-align: top;\n",
              "    }\n",
              "\n",
              "    .dataframe thead th {\n",
              "        text-align: right;\n",
              "    }\n",
              "</style>\n",
              "<table border=\"1\" class=\"dataframe\">\n",
              "  <thead>\n",
              "    <tr style=\"text-align: right;\">\n",
              "      <th></th>\n",
              "      <th>sepal_length</th>\n",
              "      <th>sepal_width</th>\n",
              "      <th>petal_length</th>\n",
              "      <th>petal_width</th>\n",
              "      <th>species</th>\n",
              "      <th>speciesEncoded</th>\n",
              "    </tr>\n",
              "  </thead>\n",
              "  <tbody>\n",
              "    <tr>\n",
              "      <th>0</th>\n",
              "      <td>5.1</td>\n",
              "      <td>3.5</td>\n",
              "      <td>1.4</td>\n",
              "      <td>0.2</td>\n",
              "      <td>setosa</td>\n",
              "      <td>0</td>\n",
              "    </tr>\n",
              "    <tr>\n",
              "      <th>1</th>\n",
              "      <td>4.9</td>\n",
              "      <td>3.0</td>\n",
              "      <td>1.4</td>\n",
              "      <td>0.2</td>\n",
              "      <td>setosa</td>\n",
              "      <td>0</td>\n",
              "    </tr>\n",
              "    <tr>\n",
              "      <th>2</th>\n",
              "      <td>4.7</td>\n",
              "      <td>3.2</td>\n",
              "      <td>1.3</td>\n",
              "      <td>0.2</td>\n",
              "      <td>setosa</td>\n",
              "      <td>0</td>\n",
              "    </tr>\n",
              "    <tr>\n",
              "      <th>3</th>\n",
              "      <td>4.6</td>\n",
              "      <td>3.1</td>\n",
              "      <td>1.5</td>\n",
              "      <td>0.2</td>\n",
              "      <td>setosa</td>\n",
              "      <td>0</td>\n",
              "    </tr>\n",
              "    <tr>\n",
              "      <th>4</th>\n",
              "      <td>5.0</td>\n",
              "      <td>3.6</td>\n",
              "      <td>1.4</td>\n",
              "      <td>0.2</td>\n",
              "      <td>setosa</td>\n",
              "      <td>0</td>\n",
              "    </tr>\n",
              "  </tbody>\n",
              "</table>\n",
              "</div>\n",
              "    <div class=\"colab-df-buttons\">\n",
              "\n",
              "  <div class=\"colab-df-container\">\n",
              "    <button class=\"colab-df-convert\" onclick=\"convertToInteractive('df-e45146ff-31bc-4082-9747-d8d9827c6919')\"\n",
              "            title=\"Convert this dataframe to an interactive table.\"\n",
              "            style=\"display:none;\">\n",
              "\n",
              "  <svg xmlns=\"http://www.w3.org/2000/svg\" height=\"24px\" viewBox=\"0 -960 960 960\">\n",
              "    <path d=\"M120-120v-720h720v720H120Zm60-500h600v-160H180v160Zm220 220h160v-160H400v160Zm0 220h160v-160H400v160ZM180-400h160v-160H180v160Zm440 0h160v-160H620v160ZM180-180h160v-160H180v160Zm440 0h160v-160H620v160Z\"/>\n",
              "  </svg>\n",
              "    </button>\n",
              "\n",
              "  <style>\n",
              "    .colab-df-container {\n",
              "      display:flex;\n",
              "      gap: 12px;\n",
              "    }\n",
              "\n",
              "    .colab-df-convert {\n",
              "      background-color: #E8F0FE;\n",
              "      border: none;\n",
              "      border-radius: 50%;\n",
              "      cursor: pointer;\n",
              "      display: none;\n",
              "      fill: #1967D2;\n",
              "      height: 32px;\n",
              "      padding: 0 0 0 0;\n",
              "      width: 32px;\n",
              "    }\n",
              "\n",
              "    .colab-df-convert:hover {\n",
              "      background-color: #E2EBFA;\n",
              "      box-shadow: 0px 1px 2px rgba(60, 64, 67, 0.3), 0px 1px 3px 1px rgba(60, 64, 67, 0.15);\n",
              "      fill: #174EA6;\n",
              "    }\n",
              "\n",
              "    .colab-df-buttons div {\n",
              "      margin-bottom: 4px;\n",
              "    }\n",
              "\n",
              "    [theme=dark] .colab-df-convert {\n",
              "      background-color: #3B4455;\n",
              "      fill: #D2E3FC;\n",
              "    }\n",
              "\n",
              "    [theme=dark] .colab-df-convert:hover {\n",
              "      background-color: #434B5C;\n",
              "      box-shadow: 0px 1px 3px 1px rgba(0, 0, 0, 0.15);\n",
              "      filter: drop-shadow(0px 1px 2px rgba(0, 0, 0, 0.3));\n",
              "      fill: #FFFFFF;\n",
              "    }\n",
              "  </style>\n",
              "\n",
              "    <script>\n",
              "      const buttonEl =\n",
              "        document.querySelector('#df-e45146ff-31bc-4082-9747-d8d9827c6919 button.colab-df-convert');\n",
              "      buttonEl.style.display =\n",
              "        google.colab.kernel.accessAllowed ? 'block' : 'none';\n",
              "\n",
              "      async function convertToInteractive(key) {\n",
              "        const element = document.querySelector('#df-e45146ff-31bc-4082-9747-d8d9827c6919');\n",
              "        const dataTable =\n",
              "          await google.colab.kernel.invokeFunction('convertToInteractive',\n",
              "                                                    [key], {});\n",
              "        if (!dataTable) return;\n",
              "\n",
              "        const docLinkHtml = 'Like what you see? Visit the ' +\n",
              "          '<a target=\"_blank\" href=https://colab.research.google.com/notebooks/data_table.ipynb>data table notebook</a>'\n",
              "          + ' to learn more about interactive tables.';\n",
              "        element.innerHTML = '';\n",
              "        dataTable['output_type'] = 'display_data';\n",
              "        await google.colab.output.renderOutput(dataTable, element);\n",
              "        const docLink = document.createElement('div');\n",
              "        docLink.innerHTML = docLinkHtml;\n",
              "        element.appendChild(docLink);\n",
              "      }\n",
              "    </script>\n",
              "  </div>\n",
              "\n",
              "\n",
              "<div id=\"df-b5b9e160-326e-438b-81ac-9a98289d27f4\">\n",
              "  <button class=\"colab-df-quickchart\" onclick=\"quickchart('df-b5b9e160-326e-438b-81ac-9a98289d27f4')\"\n",
              "            title=\"Suggest charts\"\n",
              "            style=\"display:none;\">\n",
              "\n",
              "<svg xmlns=\"http://www.w3.org/2000/svg\" height=\"24px\"viewBox=\"0 0 24 24\"\n",
              "     width=\"24px\">\n",
              "    <g>\n",
              "        <path d=\"M19 3H5c-1.1 0-2 .9-2 2v14c0 1.1.9 2 2 2h14c1.1 0 2-.9 2-2V5c0-1.1-.9-2-2-2zM9 17H7v-7h2v7zm4 0h-2V7h2v10zm4 0h-2v-4h2v4z\"/>\n",
              "    </g>\n",
              "</svg>\n",
              "  </button>\n",
              "\n",
              "<style>\n",
              "  .colab-df-quickchart {\n",
              "      --bg-color: #E8F0FE;\n",
              "      --fill-color: #1967D2;\n",
              "      --hover-bg-color: #E2EBFA;\n",
              "      --hover-fill-color: #174EA6;\n",
              "      --disabled-fill-color: #AAA;\n",
              "      --disabled-bg-color: #DDD;\n",
              "  }\n",
              "\n",
              "  [theme=dark] .colab-df-quickchart {\n",
              "      --bg-color: #3B4455;\n",
              "      --fill-color: #D2E3FC;\n",
              "      --hover-bg-color: #434B5C;\n",
              "      --hover-fill-color: #FFFFFF;\n",
              "      --disabled-bg-color: #3B4455;\n",
              "      --disabled-fill-color: #666;\n",
              "  }\n",
              "\n",
              "  .colab-df-quickchart {\n",
              "    background-color: var(--bg-color);\n",
              "    border: none;\n",
              "    border-radius: 50%;\n",
              "    cursor: pointer;\n",
              "    display: none;\n",
              "    fill: var(--fill-color);\n",
              "    height: 32px;\n",
              "    padding: 0;\n",
              "    width: 32px;\n",
              "  }\n",
              "\n",
              "  .colab-df-quickchart:hover {\n",
              "    background-color: var(--hover-bg-color);\n",
              "    box-shadow: 0 1px 2px rgba(60, 64, 67, 0.3), 0 1px 3px 1px rgba(60, 64, 67, 0.15);\n",
              "    fill: var(--button-hover-fill-color);\n",
              "  }\n",
              "\n",
              "  .colab-df-quickchart-complete:disabled,\n",
              "  .colab-df-quickchart-complete:disabled:hover {\n",
              "    background-color: var(--disabled-bg-color);\n",
              "    fill: var(--disabled-fill-color);\n",
              "    box-shadow: none;\n",
              "  }\n",
              "\n",
              "  .colab-df-spinner {\n",
              "    border: 2px solid var(--fill-color);\n",
              "    border-color: transparent;\n",
              "    border-bottom-color: var(--fill-color);\n",
              "    animation:\n",
              "      spin 1s steps(1) infinite;\n",
              "  }\n",
              "\n",
              "  @keyframes spin {\n",
              "    0% {\n",
              "      border-color: transparent;\n",
              "      border-bottom-color: var(--fill-color);\n",
              "      border-left-color: var(--fill-color);\n",
              "    }\n",
              "    20% {\n",
              "      border-color: transparent;\n",
              "      border-left-color: var(--fill-color);\n",
              "      border-top-color: var(--fill-color);\n",
              "    }\n",
              "    30% {\n",
              "      border-color: transparent;\n",
              "      border-left-color: var(--fill-color);\n",
              "      border-top-color: var(--fill-color);\n",
              "      border-right-color: var(--fill-color);\n",
              "    }\n",
              "    40% {\n",
              "      border-color: transparent;\n",
              "      border-right-color: var(--fill-color);\n",
              "      border-top-color: var(--fill-color);\n",
              "    }\n",
              "    60% {\n",
              "      border-color: transparent;\n",
              "      border-right-color: var(--fill-color);\n",
              "    }\n",
              "    80% {\n",
              "      border-color: transparent;\n",
              "      border-right-color: var(--fill-color);\n",
              "      border-bottom-color: var(--fill-color);\n",
              "    }\n",
              "    90% {\n",
              "      border-color: transparent;\n",
              "      border-bottom-color: var(--fill-color);\n",
              "    }\n",
              "  }\n",
              "</style>\n",
              "\n",
              "  <script>\n",
              "    async function quickchart(key) {\n",
              "      const quickchartButtonEl =\n",
              "        document.querySelector('#' + key + ' button');\n",
              "      quickchartButtonEl.disabled = true;  // To prevent multiple clicks.\n",
              "      quickchartButtonEl.classList.add('colab-df-spinner');\n",
              "      try {\n",
              "        const charts = await google.colab.kernel.invokeFunction(\n",
              "            'suggestCharts', [key], {});\n",
              "      } catch (error) {\n",
              "        console.error('Error during call to suggestCharts:', error);\n",
              "      }\n",
              "      quickchartButtonEl.classList.remove('colab-df-spinner');\n",
              "      quickchartButtonEl.classList.add('colab-df-quickchart-complete');\n",
              "    }\n",
              "    (() => {\n",
              "      let quickchartButtonEl =\n",
              "        document.querySelector('#df-b5b9e160-326e-438b-81ac-9a98289d27f4 button');\n",
              "      quickchartButtonEl.style.display =\n",
              "        google.colab.kernel.accessAllowed ? 'block' : 'none';\n",
              "    })();\n",
              "  </script>\n",
              "</div>\n",
              "    </div>\n",
              "  </div>\n"
            ]
          },
          "metadata": {},
          "execution_count": 8
        }
      ]
    },
    {
      "cell_type": "code",
      "source": [
        "print(le.classes_)"
      ],
      "metadata": {
        "colab": {
          "base_uri": "https://localhost:8080/"
        },
        "id": "wkQ4zdyiNBTd",
        "outputId": "815ed6d7-70ec-436a-b64c-78ae1ab01a0a"
      },
      "execution_count": 30,
      "outputs": [
        {
          "output_type": "stream",
          "name": "stdout",
          "text": [
            "['setosa' 'versicolor' 'virginica']\n"
          ]
        }
      ]
    },
    {
      "cell_type": "code",
      "source": [
        "X = df.drop(columns=['species', 'speciesEncoded'])\n",
        "y = df['speciesEncoded']"
      ],
      "metadata": {
        "id": "KLsqyfdaGToI"
      },
      "execution_count": 9,
      "outputs": []
    },
    {
      "cell_type": "code",
      "source": [
        "from sklearn.model_selection import train_test_split\n",
        "\n",
        "X_train, X_test, y_train, y_test = train_test_split(X, y, test_size=0.2, random_state=0)"
      ],
      "metadata": {
        "id": "zvyYP0IWG61E"
      },
      "execution_count": 10,
      "outputs": []
    },
    {
      "cell_type": "code",
      "source": [
        "for x in [X_train, X_test, y_train, y_test]:\n",
        "  print(x.shape)"
      ],
      "metadata": {
        "colab": {
          "base_uri": "https://localhost:8080/"
        },
        "id": "Su2jkG11HUWc",
        "outputId": "b9cf460f-bab1-49e9-bdd9-f606d4067875"
      },
      "execution_count": 11,
      "outputs": [
        {
          "output_type": "stream",
          "name": "stdout",
          "text": [
            "(120, 4)\n",
            "(30, 4)\n",
            "(120,)\n",
            "(30,)\n"
          ]
        }
      ]
    },
    {
      "cell_type": "code",
      "source": [
        "# again instead of pd.get_dummies() approach\n",
        "y_train = keras.utils.to_categorical(y_train)\n",
        "print(y_train[:5])"
      ],
      "metadata": {
        "colab": {
          "base_uri": "https://localhost:8080/"
        },
        "id": "WMMzmb63HbBs",
        "outputId": "7cd93128-20ed-42bf-9e68-7b2889ab7891"
      },
      "execution_count": 13,
      "outputs": [
        {
          "output_type": "stream",
          "name": "stdout",
          "text": [
            "[[0. 0. 1.]\n",
            " [0. 1. 0.]\n",
            " [1. 0. 0.]\n",
            " [0. 0. 1.]\n",
            " [0. 0. 1.]]\n"
          ]
        }
      ]
    },
    {
      "cell_type": "code",
      "source": [
        "# from tf.keras.models import Sequential\n",
        "from keras.models import Sequential\n",
        "from keras.layers import Dense, Dropout"
      ],
      "metadata": {
        "id": "Nz8RylElHlOS"
      },
      "execution_count": 14,
      "outputs": []
    },
    {
      "cell_type": "code",
      "source": [
        "model = Sequential()\n",
        "model.add(Dense(units=10, activation='relu', input_shape=(X_train.shape[-1], )))\n",
        "model.add(Dense(units=10, activation='relu'))\n",
        "# model.add(Dropout(0.5))\n",
        "model.add(Dense(units=3, activation='softmax'))"
      ],
      "metadata": {
        "id": "wDBfS5dlICYa"
      },
      "execution_count": 41,
      "outputs": []
    },
    {
      "cell_type": "code",
      "source": [
        "model.compile(optimizer='Adam', loss='categorical_crossentropy', metrics=['accuracy'])\n",
        "model.summary()"
      ],
      "metadata": {
        "colab": {
          "base_uri": "https://localhost:8080/"
        },
        "id": "K6l3jO1gJZq9",
        "outputId": "1cd8e7e6-dc87-404a-de76-c508a63cef3b"
      },
      "execution_count": 42,
      "outputs": [
        {
          "output_type": "stream",
          "name": "stdout",
          "text": [
            "Model: \"sequential_1\"\n",
            "_________________________________________________________________\n",
            " Layer (type)                Output Shape              Param #   \n",
            "=================================================================\n",
            " dense_3 (Dense)             (None, 10)                50        \n",
            "                                                                 \n",
            " dense_4 (Dense)             (None, 10)                110       \n",
            "                                                                 \n",
            " dense_5 (Dense)             (None, 3)                 33        \n",
            "                                                                 \n",
            "=================================================================\n",
            "Total params: 193 (772.00 Byte)\n",
            "Trainable params: 193 (772.00 Byte)\n",
            "Non-trainable params: 0 (0.00 Byte)\n",
            "_________________________________________________________________\n"
          ]
        }
      ]
    },
    {
      "cell_type": "code",
      "source": [
        "model.fit(X_train, y_train, epochs=120, verbose=2)"
      ],
      "metadata": {
        "colab": {
          "base_uri": "https://localhost:8080/"
        },
        "id": "e4YMJpJGJtjd",
        "outputId": "e3307997-994f-4774-bcef-8d1a042c8127"
      },
      "execution_count": 43,
      "outputs": [
        {
          "output_type": "stream",
          "name": "stdout",
          "text": [
            "Epoch 1/120\n",
            "4/4 - 1s - loss: 1.8759 - accuracy: 0.3667 - 715ms/epoch - 179ms/step\n",
            "Epoch 2/120\n",
            "4/4 - 0s - loss: 1.7148 - accuracy: 0.3667 - 12ms/epoch - 3ms/step\n",
            "Epoch 3/120\n",
            "4/4 - 0s - loss: 1.5752 - accuracy: 0.3667 - 11ms/epoch - 3ms/step\n",
            "Epoch 4/120\n",
            "4/4 - 0s - loss: 1.4459 - accuracy: 0.3667 - 11ms/epoch - 3ms/step\n",
            "Epoch 5/120\n",
            "4/4 - 0s - loss: 1.3287 - accuracy: 0.3667 - 12ms/epoch - 3ms/step\n",
            "Epoch 6/120\n",
            "4/4 - 0s - loss: 1.2242 - accuracy: 0.3667 - 14ms/epoch - 3ms/step\n",
            "Epoch 7/120\n",
            "4/4 - 0s - loss: 1.1368 - accuracy: 0.3667 - 13ms/epoch - 3ms/step\n",
            "Epoch 8/120\n",
            "4/4 - 0s - loss: 1.0675 - accuracy: 0.3667 - 14ms/epoch - 3ms/step\n",
            "Epoch 9/120\n",
            "4/4 - 0s - loss: 1.0107 - accuracy: 0.3667 - 13ms/epoch - 3ms/step\n",
            "Epoch 10/120\n",
            "4/4 - 0s - loss: 0.9622 - accuracy: 0.3667 - 12ms/epoch - 3ms/step\n",
            "Epoch 11/120\n",
            "4/4 - 0s - loss: 0.9220 - accuracy: 0.3667 - 11ms/epoch - 3ms/step\n",
            "Epoch 12/120\n",
            "4/4 - 0s - loss: 0.8827 - accuracy: 0.3917 - 12ms/epoch - 3ms/step\n",
            "Epoch 13/120\n",
            "4/4 - 0s - loss: 0.8516 - accuracy: 0.5250 - 12ms/epoch - 3ms/step\n",
            "Epoch 14/120\n",
            "4/4 - 0s - loss: 0.8242 - accuracy: 0.6583 - 14ms/epoch - 3ms/step\n",
            "Epoch 15/120\n",
            "4/4 - 0s - loss: 0.7968 - accuracy: 0.6917 - 12ms/epoch - 3ms/step\n",
            "Epoch 16/120\n",
            "4/4 - 0s - loss: 0.7722 - accuracy: 0.6833 - 12ms/epoch - 3ms/step\n",
            "Epoch 17/120\n",
            "4/4 - 0s - loss: 0.7540 - accuracy: 0.6667 - 14ms/epoch - 4ms/step\n",
            "Epoch 18/120\n",
            "4/4 - 0s - loss: 0.7375 - accuracy: 0.6583 - 15ms/epoch - 4ms/step\n",
            "Epoch 19/120\n",
            "4/4 - 0s - loss: 0.7204 - accuracy: 0.6750 - 12ms/epoch - 3ms/step\n",
            "Epoch 20/120\n",
            "4/4 - 0s - loss: 0.7050 - accuracy: 0.6750 - 18ms/epoch - 5ms/step\n",
            "Epoch 21/120\n",
            "4/4 - 0s - loss: 0.6898 - accuracy: 0.6917 - 16ms/epoch - 4ms/step\n",
            "Epoch 22/120\n",
            "4/4 - 0s - loss: 0.6761 - accuracy: 0.6917 - 12ms/epoch - 3ms/step\n",
            "Epoch 23/120\n",
            "4/4 - 0s - loss: 0.6628 - accuracy: 0.6917 - 13ms/epoch - 3ms/step\n",
            "Epoch 24/120\n",
            "4/4 - 0s - loss: 0.6501 - accuracy: 0.6917 - 13ms/epoch - 3ms/step\n",
            "Epoch 25/120\n",
            "4/4 - 0s - loss: 0.6386 - accuracy: 0.6917 - 13ms/epoch - 3ms/step\n",
            "Epoch 26/120\n",
            "4/4 - 0s - loss: 0.6276 - accuracy: 0.6917 - 12ms/epoch - 3ms/step\n",
            "Epoch 27/120\n",
            "4/4 - 0s - loss: 0.6174 - accuracy: 0.6917 - 12ms/epoch - 3ms/step\n",
            "Epoch 28/120\n",
            "4/4 - 0s - loss: 0.6075 - accuracy: 0.6917 - 13ms/epoch - 3ms/step\n",
            "Epoch 29/120\n",
            "4/4 - 0s - loss: 0.5977 - accuracy: 0.6917 - 13ms/epoch - 3ms/step\n",
            "Epoch 30/120\n",
            "4/4 - 0s - loss: 0.5888 - accuracy: 0.6917 - 13ms/epoch - 3ms/step\n",
            "Epoch 31/120\n",
            "4/4 - 0s - loss: 0.5802 - accuracy: 0.6917 - 13ms/epoch - 3ms/step\n",
            "Epoch 32/120\n",
            "4/4 - 0s - loss: 0.5716 - accuracy: 0.6917 - 13ms/epoch - 3ms/step\n",
            "Epoch 33/120\n",
            "4/4 - 0s - loss: 0.5638 - accuracy: 0.6917 - 12ms/epoch - 3ms/step\n",
            "Epoch 34/120\n",
            "4/4 - 0s - loss: 0.5553 - accuracy: 0.6917 - 16ms/epoch - 4ms/step\n",
            "Epoch 35/120\n",
            "4/4 - 0s - loss: 0.5478 - accuracy: 0.6917 - 13ms/epoch - 3ms/step\n",
            "Epoch 36/120\n",
            "4/4 - 0s - loss: 0.5403 - accuracy: 0.6917 - 12ms/epoch - 3ms/step\n",
            "Epoch 37/120\n",
            "4/4 - 0s - loss: 0.5332 - accuracy: 0.6917 - 13ms/epoch - 3ms/step\n",
            "Epoch 38/120\n",
            "4/4 - 0s - loss: 0.5272 - accuracy: 0.6917 - 12ms/epoch - 3ms/step\n",
            "Epoch 39/120\n",
            "4/4 - 0s - loss: 0.5195 - accuracy: 0.6917 - 12ms/epoch - 3ms/step\n",
            "Epoch 40/120\n",
            "4/4 - 0s - loss: 0.5133 - accuracy: 0.6917 - 13ms/epoch - 3ms/step\n",
            "Epoch 41/120\n",
            "4/4 - 0s - loss: 0.5073 - accuracy: 0.6917 - 12ms/epoch - 3ms/step\n",
            "Epoch 42/120\n",
            "4/4 - 0s - loss: 0.5017 - accuracy: 0.6917 - 16ms/epoch - 4ms/step\n",
            "Epoch 43/120\n",
            "4/4 - 0s - loss: 0.4967 - accuracy: 0.6917 - 12ms/epoch - 3ms/step\n",
            "Epoch 44/120\n",
            "4/4 - 0s - loss: 0.4918 - accuracy: 0.6917 - 12ms/epoch - 3ms/step\n",
            "Epoch 45/120\n",
            "4/4 - 0s - loss: 0.4874 - accuracy: 0.6917 - 11ms/epoch - 3ms/step\n",
            "Epoch 46/120\n",
            "4/4 - 0s - loss: 0.4830 - accuracy: 0.6917 - 11ms/epoch - 3ms/step\n",
            "Epoch 47/120\n",
            "4/4 - 0s - loss: 0.4788 - accuracy: 0.6917 - 12ms/epoch - 3ms/step\n",
            "Epoch 48/120\n",
            "4/4 - 0s - loss: 0.4754 - accuracy: 0.6917 - 12ms/epoch - 3ms/step\n",
            "Epoch 49/120\n",
            "4/4 - 0s - loss: 0.4725 - accuracy: 0.6917 - 10ms/epoch - 3ms/step\n",
            "Epoch 50/120\n",
            "4/4 - 0s - loss: 0.4684 - accuracy: 0.6917 - 12ms/epoch - 3ms/step\n",
            "Epoch 51/120\n",
            "4/4 - 0s - loss: 0.4650 - accuracy: 0.6917 - 12ms/epoch - 3ms/step\n",
            "Epoch 52/120\n",
            "4/4 - 0s - loss: 0.4620 - accuracy: 0.6917 - 11ms/epoch - 3ms/step\n",
            "Epoch 53/120\n",
            "4/4 - 0s - loss: 0.4588 - accuracy: 0.6917 - 12ms/epoch - 3ms/step\n",
            "Epoch 54/120\n",
            "4/4 - 0s - loss: 0.4579 - accuracy: 0.6917 - 12ms/epoch - 3ms/step\n",
            "Epoch 55/120\n",
            "4/4 - 0s - loss: 0.4535 - accuracy: 0.7000 - 11ms/epoch - 3ms/step\n",
            "Epoch 56/120\n",
            "4/4 - 0s - loss: 0.4502 - accuracy: 0.7000 - 11ms/epoch - 3ms/step\n",
            "Epoch 57/120\n",
            "4/4 - 0s - loss: 0.4477 - accuracy: 0.7000 - 11ms/epoch - 3ms/step\n",
            "Epoch 58/120\n",
            "4/4 - 0s - loss: 0.4450 - accuracy: 0.7000 - 12ms/epoch - 3ms/step\n",
            "Epoch 59/120\n",
            "4/4 - 0s - loss: 0.4434 - accuracy: 0.7000 - 17ms/epoch - 4ms/step\n",
            "Epoch 60/120\n",
            "4/4 - 0s - loss: 0.4401 - accuracy: 0.7000 - 12ms/epoch - 3ms/step\n",
            "Epoch 61/120\n",
            "4/4 - 0s - loss: 0.4375 - accuracy: 0.7000 - 13ms/epoch - 3ms/step\n",
            "Epoch 62/120\n",
            "4/4 - 0s - loss: 0.4354 - accuracy: 0.7083 - 12ms/epoch - 3ms/step\n",
            "Epoch 63/120\n",
            "4/4 - 0s - loss: 0.4329 - accuracy: 0.7167 - 12ms/epoch - 3ms/step\n",
            "Epoch 64/120\n",
            "4/4 - 0s - loss: 0.4308 - accuracy: 0.7167 - 11ms/epoch - 3ms/step\n",
            "Epoch 65/120\n",
            "4/4 - 0s - loss: 0.4284 - accuracy: 0.7333 - 11ms/epoch - 3ms/step\n",
            "Epoch 66/120\n",
            "4/4 - 0s - loss: 0.4258 - accuracy: 0.7333 - 13ms/epoch - 3ms/step\n",
            "Epoch 67/120\n",
            "4/4 - 0s - loss: 0.4234 - accuracy: 0.7333 - 12ms/epoch - 3ms/step\n",
            "Epoch 68/120\n",
            "4/4 - 0s - loss: 0.4211 - accuracy: 0.7250 - 11ms/epoch - 3ms/step\n",
            "Epoch 69/120\n",
            "4/4 - 0s - loss: 0.4189 - accuracy: 0.7250 - 17ms/epoch - 4ms/step\n",
            "Epoch 70/120\n",
            "4/4 - 0s - loss: 0.4173 - accuracy: 0.7250 - 23ms/epoch - 6ms/step\n",
            "Epoch 71/120\n",
            "4/4 - 0s - loss: 0.4143 - accuracy: 0.7333 - 17ms/epoch - 4ms/step\n",
            "Epoch 72/120\n",
            "4/4 - 0s - loss: 0.4119 - accuracy: 0.7583 - 12ms/epoch - 3ms/step\n",
            "Epoch 73/120\n",
            "4/4 - 0s - loss: 0.4114 - accuracy: 0.7583 - 11ms/epoch - 3ms/step\n",
            "Epoch 74/120\n",
            "4/4 - 0s - loss: 0.4088 - accuracy: 0.7667 - 11ms/epoch - 3ms/step\n",
            "Epoch 75/120\n",
            "4/4 - 0s - loss: 0.4052 - accuracy: 0.8250 - 11ms/epoch - 3ms/step\n",
            "Epoch 76/120\n",
            "4/4 - 0s - loss: 0.4034 - accuracy: 0.8167 - 13ms/epoch - 3ms/step\n",
            "Epoch 77/120\n",
            "4/4 - 0s - loss: 0.4005 - accuracy: 0.8167 - 12ms/epoch - 3ms/step\n",
            "Epoch 78/120\n",
            "4/4 - 0s - loss: 0.3986 - accuracy: 0.8333 - 18ms/epoch - 5ms/step\n",
            "Epoch 79/120\n",
            "4/4 - 0s - loss: 0.3965 - accuracy: 0.8250 - 12ms/epoch - 3ms/step\n",
            "Epoch 80/120\n",
            "4/4 - 0s - loss: 0.3938 - accuracy: 0.8167 - 17ms/epoch - 4ms/step\n",
            "Epoch 81/120\n",
            "4/4 - 0s - loss: 0.3915 - accuracy: 0.8417 - 12ms/epoch - 3ms/step\n",
            "Epoch 82/120\n",
            "4/4 - 0s - loss: 0.3891 - accuracy: 0.8667 - 18ms/epoch - 4ms/step\n",
            "Epoch 83/120\n",
            "4/4 - 0s - loss: 0.3880 - accuracy: 0.8667 - 15ms/epoch - 4ms/step\n",
            "Epoch 84/120\n",
            "4/4 - 0s - loss: 0.3846 - accuracy: 0.8833 - 12ms/epoch - 3ms/step\n",
            "Epoch 85/120\n",
            "4/4 - 0s - loss: 0.3826 - accuracy: 0.8750 - 13ms/epoch - 3ms/step\n",
            "Epoch 86/120\n",
            "4/4 - 0s - loss: 0.3802 - accuracy: 0.8750 - 12ms/epoch - 3ms/step\n",
            "Epoch 87/120\n",
            "4/4 - 0s - loss: 0.3784 - accuracy: 0.8667 - 14ms/epoch - 3ms/step\n",
            "Epoch 88/120\n",
            "4/4 - 0s - loss: 0.3755 - accuracy: 0.8667 - 12ms/epoch - 3ms/step\n",
            "Epoch 89/120\n",
            "4/4 - 0s - loss: 0.3734 - accuracy: 0.8833 - 11ms/epoch - 3ms/step\n",
            "Epoch 90/120\n",
            "4/4 - 0s - loss: 0.3707 - accuracy: 0.9000 - 12ms/epoch - 3ms/step\n",
            "Epoch 91/120\n",
            "4/4 - 0s - loss: 0.3689 - accuracy: 0.9083 - 12ms/epoch - 3ms/step\n",
            "Epoch 92/120\n",
            "4/4 - 0s - loss: 0.3662 - accuracy: 0.9250 - 14ms/epoch - 3ms/step\n",
            "Epoch 93/120\n",
            "4/4 - 0s - loss: 0.3641 - accuracy: 0.9250 - 13ms/epoch - 3ms/step\n",
            "Epoch 94/120\n",
            "4/4 - 0s - loss: 0.3618 - accuracy: 0.9083 - 13ms/epoch - 3ms/step\n",
            "Epoch 95/120\n",
            "4/4 - 0s - loss: 0.3594 - accuracy: 0.9250 - 12ms/epoch - 3ms/step\n",
            "Epoch 96/120\n",
            "4/4 - 0s - loss: 0.3570 - accuracy: 0.9250 - 12ms/epoch - 3ms/step\n",
            "Epoch 97/120\n",
            "4/4 - 0s - loss: 0.3544 - accuracy: 0.9167 - 11ms/epoch - 3ms/step\n",
            "Epoch 98/120\n",
            "4/4 - 0s - loss: 0.3525 - accuracy: 0.9417 - 12ms/epoch - 3ms/step\n",
            "Epoch 99/120\n",
            "4/4 - 0s - loss: 0.3500 - accuracy: 0.9417 - 12ms/epoch - 3ms/step\n",
            "Epoch 100/120\n",
            "4/4 - 0s - loss: 0.3474 - accuracy: 0.9417 - 12ms/epoch - 3ms/step\n",
            "Epoch 101/120\n",
            "4/4 - 0s - loss: 0.3449 - accuracy: 0.9333 - 12ms/epoch - 3ms/step\n",
            "Epoch 102/120\n",
            "4/4 - 0s - loss: 0.3424 - accuracy: 0.9333 - 12ms/epoch - 3ms/step\n",
            "Epoch 103/120\n",
            "4/4 - 0s - loss: 0.3402 - accuracy: 0.9167 - 13ms/epoch - 3ms/step\n",
            "Epoch 104/120\n",
            "4/4 - 0s - loss: 0.3380 - accuracy: 0.9333 - 12ms/epoch - 3ms/step\n",
            "Epoch 105/120\n",
            "4/4 - 0s - loss: 0.3352 - accuracy: 0.9417 - 12ms/epoch - 3ms/step\n",
            "Epoch 106/120\n",
            "4/4 - 0s - loss: 0.3329 - accuracy: 0.9417 - 15ms/epoch - 4ms/step\n",
            "Epoch 107/120\n",
            "4/4 - 0s - loss: 0.3305 - accuracy: 0.9417 - 12ms/epoch - 3ms/step\n",
            "Epoch 108/120\n",
            "4/4 - 0s - loss: 0.3281 - accuracy: 0.9417 - 14ms/epoch - 3ms/step\n",
            "Epoch 109/120\n",
            "4/4 - 0s - loss: 0.3255 - accuracy: 0.9417 - 13ms/epoch - 3ms/step\n",
            "Epoch 110/120\n",
            "4/4 - 0s - loss: 0.3231 - accuracy: 0.9417 - 13ms/epoch - 3ms/step\n",
            "Epoch 111/120\n",
            "4/4 - 0s - loss: 0.3205 - accuracy: 0.9417 - 12ms/epoch - 3ms/step\n",
            "Epoch 112/120\n",
            "4/4 - 0s - loss: 0.3182 - accuracy: 0.9417 - 12ms/epoch - 3ms/step\n",
            "Epoch 113/120\n",
            "4/4 - 0s - loss: 0.3157 - accuracy: 0.9417 - 14ms/epoch - 4ms/step\n",
            "Epoch 114/120\n",
            "4/4 - 0s - loss: 0.3130 - accuracy: 0.9417 - 12ms/epoch - 3ms/step\n",
            "Epoch 115/120\n",
            "4/4 - 0s - loss: 0.3106 - accuracy: 0.9500 - 12ms/epoch - 3ms/step\n",
            "Epoch 116/120\n",
            "4/4 - 0s - loss: 0.3082 - accuracy: 0.9500 - 13ms/epoch - 3ms/step\n",
            "Epoch 117/120\n",
            "4/4 - 0s - loss: 0.3062 - accuracy: 0.9500 - 12ms/epoch - 3ms/step\n",
            "Epoch 118/120\n",
            "4/4 - 0s - loss: 0.3031 - accuracy: 0.9500 - 12ms/epoch - 3ms/step\n",
            "Epoch 119/120\n",
            "4/4 - 0s - loss: 0.3005 - accuracy: 0.9500 - 12ms/epoch - 3ms/step\n",
            "Epoch 120/120\n",
            "4/4 - 0s - loss: 0.2979 - accuracy: 0.9500 - 11ms/epoch - 3ms/step\n"
          ]
        },
        {
          "output_type": "execute_result",
          "data": {
            "text/plain": [
              "<keras.src.callbacks.History at 0x787fd3385840>"
            ]
          },
          "metadata": {},
          "execution_count": 43
        }
      ]
    },
    {
      "cell_type": "code",
      "source": [
        "prediction = model.predict(X_test)\n",
        "for x, y in zip(prediction[:10], y_test[:10]):\n",
        "  print(f\"output={x}, prediction={np.argmax(x)}, true={y}\")"
      ],
      "metadata": {
        "colab": {
          "base_uri": "https://localhost:8080/"
        },
        "id": "_bsbMEAQJ_GP",
        "outputId": "ef7d747b-4046-40f6-bc11-dcc401077124"
      },
      "execution_count": 44,
      "outputs": [
        {
          "output_type": "stream",
          "name": "stdout",
          "text": [
            "1/1 [==============================] - 0s 57ms/step\n",
            "output=[0.00144643 0.19079767 0.8077559 ], prediction=2, true=2\n",
            "output=[0.01532618 0.56832916 0.41634464], prediction=1, true=1\n",
            "output=[9.9238098e-01 2.1227257e-04 7.4067344e-03], prediction=0, true=0\n",
            "output=[0.00091865 0.19275728 0.80632406], prediction=2, true=2\n",
            "output=[0.9783025  0.00140232 0.0202952 ], prediction=0, true=0\n",
            "output=[6.5335433e-04 1.5987957e-01 8.3946705e-01], prediction=2, true=2\n",
            "output=[9.8295820e-01 9.0624281e-04 1.6135624e-02], prediction=0, true=0\n",
            "output=[0.00688215 0.57668036 0.4164375 ], prediction=1, true=1\n",
            "output=[0.00630442 0.5058194  0.48787615], prediction=1, true=1\n",
            "output=[0.013297  0.6541985 0.3325045], prediction=1, true=1\n"
          ]
        }
      ]
    },
    {
      "cell_type": "code",
      "source": [
        "from sklearn.metrics import accuracy_score, confusion_matrix\n",
        "import matplotlib.pyplot as plt"
      ],
      "metadata": {
        "id": "34KLqLUwKTMH"
      },
      "execution_count": 34,
      "outputs": []
    },
    {
      "cell_type": "code",
      "source": [
        "prediction = np.argmax(prediction, axis=-1)\n",
        "print(accuracy_score(y_test, prediction))"
      ],
      "metadata": {
        "colab": {
          "base_uri": "https://localhost:8080/"
        },
        "id": "KDaZe1RaL1oX",
        "outputId": "5cd7a0fc-5164-4305-ba86-375740bc59a4"
      },
      "execution_count": 45,
      "outputs": [
        {
          "output_type": "stream",
          "name": "stdout",
          "text": [
            "1.0\n"
          ]
        }
      ]
    },
    {
      "cell_type": "code",
      "source": [
        "cm = confusion_matrix(y_test, prediction)\n",
        "print(cm)"
      ],
      "metadata": {
        "colab": {
          "base_uri": "https://localhost:8080/"
        },
        "id": "qUs9PfaQL-DW",
        "outputId": "5d3d1c66-6333-455b-e699-4612c675586d"
      },
      "execution_count": 46,
      "outputs": [
        {
          "output_type": "stream",
          "name": "stdout",
          "text": [
            "[[11  0  0]\n",
            " [ 0 13  0]\n",
            " [ 0  0  6]]\n"
          ]
        }
      ]
    },
    {
      "cell_type": "code",
      "source": [
        "ax = sns.heatmap(cm, annot=True, fmt='d', cmap='Reds',\n",
        "                 xticklabels=le.classes_, yticklabels=le.classes_)\n",
        "ax.set_title('Estimator Confusion Matrix')\n",
        "ax.set_xlabel('prediction', fontsize=14)\n",
        "ax.set_ylabel('actual', fontsize=14)\n",
        "plt.show()"
      ],
      "metadata": {
        "colab": {
          "base_uri": "https://localhost:8080/",
          "height": 477
        },
        "id": "Xjg5NcVWMZaV",
        "outputId": "ea5f1301-99a6-44e5-ae76-4a5fe2d615d0"
      },
      "execution_count": 47,
      "outputs": [
        {
          "output_type": "display_data",
          "data": {
            "text/plain": [
              "<Figure size 640x480 with 2 Axes>"
            ],
            "image/png": "[encoded data removed]"
          },
          "metadata": {}
        }
      ]
    },
    {
      "cell_type": "code",
      "source": [],
      "metadata": {
        "id": "_FSDLvawN2Ni"
      },
      "execution_count": null,
      "outputs": []
    }
  ]
}