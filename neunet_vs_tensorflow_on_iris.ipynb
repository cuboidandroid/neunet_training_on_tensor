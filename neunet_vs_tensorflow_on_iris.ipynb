{
  "nbformat": 4,
  "nbformat_minor": 0,
  "metadata": {
    "colab": {
      "provenance": [],
      "authorship_tag": "ABX9TyNsLqgNxpGsxVOL676EJzDe",
      "include_colab_link": true
    },
    "kernelspec": {
      "name": "python3",
      "display_name": "Python 3"
    },
    "language_info": {
      "name": "python"
    }
  },
  "cells": [
    {
      "cell_type": "markdown",
      "metadata": {
        "id": "view-in-github",
        "colab_type": "text"
      },
      "source": [
        "<a href=\"https://colab.research.google.com/github/cuboidandroid/neunet_training_on_tensor/blob/main/neunet_vs_tensorflow_on_iris.ipynb\" target=\"_parent\"><img src=\"https://colab.research.google.com/assets/colab-badge.svg\" alt=\"Open In Colab\"/></a>"
      ]
    },
    {
      "cell_type": "code",
      "execution_count": null,
      "metadata": {
        "colab": {
          "base_uri": "https://localhost:8080/"
        },
        "id": "qquW4gG-4e_S",
        "outputId": "52bdf79c-34c1-46b8-d781-44cf8860af1a"
      },
      "outputs": [
        {
          "output_type": "stream",
          "name": "stdout",
          "text": [
            "Mounted at /content/gdrive\n"
          ]
        }
      ],
      "source": [
        "from google.colab import drive\n",
        "drive.mount('/content/gdrive', force_remount=True)"
      ]
    },
    {
      "cell_type": "code",
      "source": [
        "import sys\n",
        "sys.path.append('gdrive/MyDrive/neunet')"
      ],
      "metadata": {
        "id": "hV02KELu6HMI"
      },
      "execution_count": null,
      "outputs": []
    },
    {
      "cell_type": "code",
      "source": [
        "from neunet import NeuralNetwork"
      ],
      "metadata": {
        "id": "JOwqrkpQ53SW"
      },
      "execution_count": null,
      "outputs": []
    },
    {
      "cell_type": "code",
      "source": [
        "my_net = NeuralNetwork([4,10,10,3], ['relu', 'relu', 'relu'])\n",
        "print(my_net.weights)\n",
        "print(my_net.betas)"
      ],
      "metadata": {
        "colab": {
          "base_uri": "https://localhost:8080/"
        },
        "id": "xzM9bfms9Dlv",
        "outputId": "bcd277d1-7b1d-4353-904b-17a072293c50"
      },
      "execution_count": null,
      "outputs": [
        {
          "output_type": "stream",
          "name": "stdout",
          "text": [
            "[nan, array([[-0.60422581, -0.75968746,  0.86861246,  0.96874218],\n",
            "       [ 0.88048845,  0.52457485,  0.93420187, -0.8405499 ],\n",
            "       [-0.80005611, -0.95295353,  0.61736403, -0.50190149],\n",
            "       [-0.38998053, -0.50058671,  0.84160678,  0.72869273],\n",
            "       [ 0.27003402, -0.20764174,  0.93561201, -0.80923653],\n",
            "       [ 0.1414986 , -0.07694714,  0.10166778, -0.02322295],\n",
            "       [-0.74762364, -0.1266959 , -0.43930903,  0.06218266],\n",
            "       [-0.62998592, -0.71948436, -0.36930598,  0.09488243],\n",
            "       [-0.83136286, -0.37314471,  0.03392773,  0.99348651],\n",
            "       [-0.79954384,  0.46999409, -0.46209379,  0.90578785]]), array([[ 0.96709437, -0.57029695,  0.3249792 , -0.00622804,  0.01619027,\n",
            "        -0.17974419,  0.95179353, -0.76706887,  0.72246014, -0.53970922],\n",
            "       [ 0.64787136,  0.62076121,  0.25365513, -0.28522694, -0.04250332,\n",
            "        -0.70665312,  0.46092167,  0.91885179, -0.34680018,  0.45049566],\n",
            "       [-0.61452206, -0.02048898, -0.0174658 ,  0.3308647 ,  0.203915  ,\n",
            "        -0.71851936, -0.49241714, -0.1371953 ,  0.473867  ,  0.68131503],\n",
            "       [-0.84971517, -0.33583219, -0.4142466 ,  0.74841073,  0.40915555,\n",
            "         0.66465175,  0.97185739,  0.69642045,  0.56982659, -0.16569189],\n",
            "       [-0.3643751 , -0.69271296, -0.46358559, -0.81907685,  0.55572466,\n",
            "        -0.76680378, -0.62205506, -0.77170842,  0.21766246, -0.94982071],\n",
            "       [-0.1189049 , -0.15194972, -0.1525978 ,  0.35168535, -0.91865219,\n",
            "         0.31603454,  0.61145929,  0.381899  ,  0.92249064,  0.64996939],\n",
            "       [ 0.60245025,  0.91366917,  0.3722629 , -0.82670498,  0.79465684,\n",
            "        -0.90781784,  0.15658081,  0.65137735, -0.94965524, -0.13321105],\n",
            "       [-0.53492052, -0.05070718, -0.65099498,  0.52979376, -0.47165326,\n",
            "         0.82480235,  0.17451869,  0.76820816, -0.34784283,  0.93559511],\n",
            "       [ 0.75739971, -0.76459015, -0.01338111, -0.99845722,  0.87051412,\n",
            "        -0.33956984,  0.11989996, -0.48650067,  0.30161813,  0.46749784],\n",
            "       [ 0.20030468,  0.28733161, -0.29349393,  0.14136606, -0.87235036,\n",
            "        -0.0070088 , -0.72762855, -0.7894947 , -0.46243045,  0.29931875]]), array([[-0.64486668,  0.41930758, -0.43689433,  0.85336565,  0.4369555 ,\n",
            "        -0.93525934, -0.47353656, -0.98905098, -0.97688638, -0.99304244],\n",
            "       [ 0.81258576, -0.2048426 , -0.19065156,  0.34912324, -0.83738784,\n",
            "        -0.08043507, -0.1866814 ,  0.26854137, -0.6986495 , -0.80341852],\n",
            "       [ 0.4018695 ,  0.16139611,  0.33403751,  0.21458619,  0.82158079,\n",
            "         0.30789058, -0.17196828,  0.24768451,  0.46457607, -0.6939178 ]])]\n",
            "[nan, array([[-0.91598391],\n",
            "       [-0.89905068],\n",
            "       [ 0.29627628],\n",
            "       [ 0.22608897],\n",
            "       [-0.55590333],\n",
            "       [-0.21079377],\n",
            "       [ 0.95728538],\n",
            "       [-0.66348831],\n",
            "       [-0.20954873],\n",
            "       [ 0.94427373]]), array([[-0.80481022],\n",
            "       [ 0.58590159],\n",
            "       [ 0.79083986],\n",
            "       [ 0.70939189],\n",
            "       [ 0.7132361 ],\n",
            "       [-0.64815337],\n",
            "       [ 0.37328164],\n",
            "       [ 0.98181802],\n",
            "       [ 0.20623231],\n",
            "       [ 0.88856054]]), array([[-0.7760702 ],\n",
            "       [-0.4544941 ],\n",
            "       [-0.25396402]])]\n"
          ]
        }
      ]
    },
    {
      "cell_type": "code",
      "source": [
        "import seaborn as sns\n",
        "import pandas as pd\n",
        "df = sns.load_dataset('iris')\n",
        "df.head(3)"
      ],
      "metadata": {
        "id": "yshgTGHu9dm1",
        "colab": {
          "base_uri": "https://localhost:8080/",
          "height": 143
        },
        "outputId": "b390c820-4365-4afa-d904-1aa61c287b8f"
      },
      "execution_count": null,
      "outputs": [
        {
          "output_type": "execute_result",
          "data": {
            "text/plain": [
              "   sepal_length  sepal_width  petal_length  petal_width species\n",
              "0           5.1          3.5           1.4          0.2  setosa\n",
              "1           4.9          3.0           1.4          0.2  setosa\n",
              "2           4.7          3.2           1.3          0.2  setosa"
            ],
            "text/html": [
              "\n",
              "  <div id=\"df-d481d865-6598-486e-b289-8e9bf4130fec\" class=\"colab-df-container\">\n",
              "    <div>\n",
              "<style scoped>\n",
              "    .dataframe tbody tr th:only-of-type {\n",
              "        vertical-align: middle;\n",
              "    }\n",
              "\n",
              "    .dataframe tbody tr th {\n",
              "        vertical-align: top;\n",
              "    }\n",
              "\n",
              "    .dataframe thead th {\n",
              "        text-align: right;\n",
              "    }\n",
              "</style>\n",
              "<table border=\"1\" class=\"dataframe\">\n",
              "  <thead>\n",
              "    <tr style=\"text-align: right;\">\n",
              "      <th></th>\n",
              "      <th>sepal_length</th>\n",
              "      <th>sepal_width</th>\n",
              "      <th>petal_length</th>\n",
              "      <th>petal_width</th>\n",
              "      <th>species</th>\n",
              "    </tr>\n",
              "  </thead>\n",
              "  <tbody>\n",
              "    <tr>\n",
              "      <th>0</th>\n",
              "      <td>5.1</td>\n",
              "      <td>3.5</td>\n",
              "      <td>1.4</td>\n",
              "      <td>0.2</td>\n",
              "      <td>setosa</td>\n",
              "    </tr>\n",
              "    <tr>\n",
              "      <th>1</th>\n",
              "      <td>4.9</td>\n",
              "      <td>3.0</td>\n",
              "      <td>1.4</td>\n",
              "      <td>0.2</td>\n",
              "      <td>setosa</td>\n",
              "    </tr>\n",
              "    <tr>\n",
              "      <th>2</th>\n",
              "      <td>4.7</td>\n",
              "      <td>3.2</td>\n",
              "      <td>1.3</td>\n",
              "      <td>0.2</td>\n",
              "      <td>setosa</td>\n",
              "    </tr>\n",
              "  </tbody>\n",
              "</table>\n",
              "</div>\n",
              "    <div class=\"colab-df-buttons\">\n",
              "\n",
              "  <div class=\"colab-df-container\">\n",
              "    <button class=\"colab-df-convert\" onclick=\"convertToInteractive('df-d481d865-6598-486e-b289-8e9bf4130fec')\"\n",
              "            title=\"Convert this dataframe to an interactive table.\"\n",
              "            style=\"display:none;\">\n",
              "\n",
              "  <svg xmlns=\"http://www.w3.org/2000/svg\" height=\"24px\" viewBox=\"0 -960 960 960\">\n",
              "    <path d=\"M120-120v-720h720v720H120Zm60-500h600v-160H180v160Zm220 220h160v-160H400v160Zm0 220h160v-160H400v160ZM180-400h160v-160H180v160Zm440 0h160v-160H620v160ZM180-180h160v-160H180v160Zm440 0h160v-160H620v160Z\"/>\n",
              "  </svg>\n",
              "    </button>\n",
              "\n",
              "  <style>\n",
              "    .colab-df-container {\n",
              "      display:flex;\n",
              "      gap: 12px;\n",
              "    }\n",
              "\n",
              "    .colab-df-convert {\n",
              "      background-color: #E8F0FE;\n",
              "      border: none;\n",
              "      border-radius: 50%;\n",
              "      cursor: pointer;\n",
              "      display: none;\n",
              "      fill: #1967D2;\n",
              "      height: 32px;\n",
              "      padding: 0 0 0 0;\n",
              "      width: 32px;\n",
              "    }\n",
              "\n",
              "    .colab-df-convert:hover {\n",
              "      background-color: #E2EBFA;\n",
              "      box-shadow: 0px 1px 2px rgba(60, 64, 67, 0.3), 0px 1px 3px 1px rgba(60, 64, 67, 0.15);\n",
              "      fill: #174EA6;\n",
              "    }\n",
              "\n",
              "    .colab-df-buttons div {\n",
              "      margin-bottom: 4px;\n",
              "    }\n",
              "\n",
              "    [theme=dark] .colab-df-convert {\n",
              "      background-color: #3B4455;\n",
              "      fill: #D2E3FC;\n",
              "    }\n",
              "\n",
              "    [theme=dark] .colab-df-convert:hover {\n",
              "      background-color: #434B5C;\n",
              "      box-shadow: 0px 1px 3px 1px rgba(0, 0, 0, 0.15);\n",
              "      filter: drop-shadow(0px 1px 2px rgba(0, 0, 0, 0.3));\n",
              "      fill: #FFFFFF;\n",
              "    }\n",
              "  </style>\n",
              "\n",
              "    <script>\n",
              "      const buttonEl =\n",
              "        document.querySelector('#df-d481d865-6598-486e-b289-8e9bf4130fec button.colab-df-convert');\n",
              "      buttonEl.style.display =\n",
              "        google.colab.kernel.accessAllowed ? 'block' : 'none';\n",
              "\n",
              "      async function convertToInteractive(key) {\n",
              "        const element = document.querySelector('#df-d481d865-6598-486e-b289-8e9bf4130fec');\n",
              "        const dataTable =\n",
              "          await google.colab.kernel.invokeFunction('convertToInteractive',\n",
              "                                                    [key], {});\n",
              "        if (!dataTable) return;\n",
              "\n",
              "        const docLinkHtml = 'Like what you see? Visit the ' +\n",
              "          '<a target=\"_blank\" href=https://colab.research.google.com/notebooks/data_table.ipynb>data table notebook</a>'\n",
              "          + ' to learn more about interactive tables.';\n",
              "        element.innerHTML = '';\n",
              "        dataTable['output_type'] = 'display_data';\n",
              "        await google.colab.output.renderOutput(dataTable, element);\n",
              "        const docLink = document.createElement('div');\n",
              "        docLink.innerHTML = docLinkHtml;\n",
              "        element.appendChild(docLink);\n",
              "      }\n",
              "    </script>\n",
              "  </div>\n",
              "\n",
              "\n",
              "<div id=\"df-fe5de263-fe76-4bfd-9e4a-69e1f1e94693\">\n",
              "  <button class=\"colab-df-quickchart\" onclick=\"quickchart('df-fe5de263-fe76-4bfd-9e4a-69e1f1e94693')\"\n",
              "            title=\"Suggest charts\"\n",
              "            style=\"display:none;\">\n",
              "\n",
              "<svg xmlns=\"http://www.w3.org/2000/svg\" height=\"24px\"viewBox=\"0 0 24 24\"\n",
              "     width=\"24px\">\n",
              "    <g>\n",
              "        <path d=\"M19 3H5c-1.1 0-2 .9-2 2v14c0 1.1.9 2 2 2h14c1.1 0 2-.9 2-2V5c0-1.1-.9-2-2-2zM9 17H7v-7h2v7zm4 0h-2V7h2v10zm4 0h-2v-4h2v4z\"/>\n",
              "    </g>\n",
              "</svg>\n",
              "  </button>\n",
              "\n",
              "<style>\n",
              "  .colab-df-quickchart {\n",
              "      --bg-color: #E8F0FE;\n",
              "      --fill-color: #1967D2;\n",
              "      --hover-bg-color: #E2EBFA;\n",
              "      --hover-fill-color: #174EA6;\n",
              "      --disabled-fill-color: #AAA;\n",
              "      --disabled-bg-color: #DDD;\n",
              "  }\n",
              "\n",
              "  [theme=dark] .colab-df-quickchart {\n",
              "      --bg-color: #3B4455;\n",
              "      --fill-color: #D2E3FC;\n",
              "      --hover-bg-color: #434B5C;\n",
              "      --hover-fill-color: #FFFFFF;\n",
              "      --disabled-bg-color: #3B4455;\n",
              "      --disabled-fill-color: #666;\n",
              "  }\n",
              "\n",
              "  .colab-df-quickchart {\n",
              "    background-color: var(--bg-color);\n",
              "    border: none;\n",
              "    border-radius: 50%;\n",
              "    cursor: pointer;\n",
              "    display: none;\n",
              "    fill: var(--fill-color);\n",
              "    height: 32px;\n",
              "    padding: 0;\n",
              "    width: 32px;\n",
              "  }\n",
              "\n",
              "  .colab-df-quickchart:hover {\n",
              "    background-color: var(--hover-bg-color);\n",
              "    box-shadow: 0 1px 2px rgba(60, 64, 67, 0.3), 0 1px 3px 1px rgba(60, 64, 67, 0.15);\n",
              "    fill: var(--button-hover-fill-color);\n",
              "  }\n",
              "\n",
              "  .colab-df-quickchart-complete:disabled,\n",
              "  .colab-df-quickchart-complete:disabled:hover {\n",
              "    background-color: var(--disabled-bg-color);\n",
              "    fill: var(--disabled-fill-color);\n",
              "    box-shadow: none;\n",
              "  }\n",
              "\n",
              "  .colab-df-spinner {\n",
              "    border: 2px solid var(--fill-color);\n",
              "    border-color: transparent;\n",
              "    border-bottom-color: var(--fill-color);\n",
              "    animation:\n",
              "      spin 1s steps(1) infinite;\n",
              "  }\n",
              "\n",
              "  @keyframes spin {\n",
              "    0% {\n",
              "      border-color: transparent;\n",
              "      border-bottom-color: var(--fill-color);\n",
              "      border-left-color: var(--fill-color);\n",
              "    }\n",
              "    20% {\n",
              "      border-color: transparent;\n",
              "      border-left-color: var(--fill-color);\n",
              "      border-top-color: var(--fill-color);\n",
              "    }\n",
              "    30% {\n",
              "      border-color: transparent;\n",
              "      border-left-color: var(--fill-color);\n",
              "      border-top-color: var(--fill-color);\n",
              "      border-right-color: var(--fill-color);\n",
              "    }\n",
              "    40% {\n",
              "      border-color: transparent;\n",
              "      border-right-color: var(--fill-color);\n",
              "      border-top-color: var(--fill-color);\n",
              "    }\n",
              "    60% {\n",
              "      border-color: transparent;\n",
              "      border-right-color: var(--fill-color);\n",
              "    }\n",
              "    80% {\n",
              "      border-color: transparent;\n",
              "      border-right-color: var(--fill-color);\n",
              "      border-bottom-color: var(--fill-color);\n",
              "    }\n",
              "    90% {\n",
              "      border-color: transparent;\n",
              "      border-bottom-color: var(--fill-color);\n",
              "    }\n",
              "  }\n",
              "</style>\n",
              "\n",
              "  <script>\n",
              "    async function quickchart(key) {\n",
              "      const quickchartButtonEl =\n",
              "        document.querySelector('#' + key + ' button');\n",
              "      quickchartButtonEl.disabled = true;  // To prevent multiple clicks.\n",
              "      quickchartButtonEl.classList.add('colab-df-spinner');\n",
              "      try {\n",
              "        const charts = await google.colab.kernel.invokeFunction(\n",
              "            'suggestCharts', [key], {});\n",
              "      } catch (error) {\n",
              "        console.error('Error during call to suggestCharts:', error);\n",
              "      }\n",
              "      quickchartButtonEl.classList.remove('colab-df-spinner');\n",
              "      quickchartButtonEl.classList.add('colab-df-quickchart-complete');\n",
              "    }\n",
              "    (() => {\n",
              "      let quickchartButtonEl =\n",
              "        document.querySelector('#df-fe5de263-fe76-4bfd-9e4a-69e1f1e94693 button');\n",
              "      quickchartButtonEl.style.display =\n",
              "        google.colab.kernel.accessAllowed ? 'block' : 'none';\n",
              "    })();\n",
              "  </script>\n",
              "</div>\n",
              "    </div>\n",
              "  </div>\n"
            ]
          },
          "metadata": {},
          "execution_count": 1
        }
      ]
    },
    {
      "cell_type": "code",
      "source": [
        "df.loc[137, :]"
      ],
      "metadata": {
        "colab": {
          "base_uri": "https://localhost:8080/"
        },
        "id": "EXlHWy-E5UY4",
        "outputId": "af9945db-448b-43e3-820e-ee2a5e394713"
      },
      "execution_count": null,
      "outputs": [
        {
          "output_type": "execute_result",
          "data": {
            "text/plain": [
              "sepal_length          6.4\n",
              "sepal_width           3.1\n",
              "petal_length          5.5\n",
              "petal_width           1.8\n",
              "species         virginica\n",
              "Name: 137, dtype: object"
            ]
          },
          "metadata": {},
          "execution_count": 2
        }
      ]
    },
    {
      "cell_type": "code",
      "source": [
        "df = pd.concat([df, pd.get_dummies(df['species'])], axis=1)\n",
        "df.head(3)"
      ],
      "metadata": {
        "colab": {
          "base_uri": "https://localhost:8080/",
          "height": 143
        },
        "id": "xYac2xMRyllM",
        "outputId": "4e3f83c1-ada7-4e31-e412-48fbdff74a0b"
      },
      "execution_count": null,
      "outputs": [
        {
          "output_type": "execute_result",
          "data": {
            "text/plain": [
              "   sepal_length  sepal_width  petal_length  petal_width species  setosa  \\\n",
              "0           5.1          3.5           1.4          0.2  setosa       1   \n",
              "1           4.9          3.0           1.4          0.2  setosa       1   \n",
              "2           4.7          3.2           1.3          0.2  setosa       1   \n",
              "\n",
              "   versicolor  virginica  \n",
              "0           0          0  \n",
              "1           0          0  \n",
              "2           0          0  "
            ],
            "text/html": [
              "\n",
              "  <div id=\"df-e6d8f273-9d80-41da-88c2-6ce6aacf4f72\" class=\"colab-df-container\">\n",
              "    <div>\n",
              "<style scoped>\n",
              "    .dataframe tbody tr th:only-of-type {\n",
              "        vertical-align: middle;\n",
              "    }\n",
              "\n",
              "    .dataframe tbody tr th {\n",
              "        vertical-align: top;\n",
              "    }\n",
              "\n",
              "    .dataframe thead th {\n",
              "        text-align: right;\n",
              "    }\n",
              "</style>\n",
              "<table border=\"1\" class=\"dataframe\">\n",
              "  <thead>\n",
              "    <tr style=\"text-align: right;\">\n",
              "      <th></th>\n",
              "      <th>sepal_length</th>\n",
              "      <th>sepal_width</th>\n",
              "      <th>petal_length</th>\n",
              "      <th>petal_width</th>\n",
              "      <th>species</th>\n",
              "      <th>setosa</th>\n",
              "      <th>versicolor</th>\n",
              "      <th>virginica</th>\n",
              "    </tr>\n",
              "  </thead>\n",
              "  <tbody>\n",
              "    <tr>\n",
              "      <th>0</th>\n",
              "      <td>5.1</td>\n",
              "      <td>3.5</td>\n",
              "      <td>1.4</td>\n",
              "      <td>0.2</td>\n",
              "      <td>setosa</td>\n",
              "      <td>1</td>\n",
              "      <td>0</td>\n",
              "      <td>0</td>\n",
              "    </tr>\n",
              "    <tr>\n",
              "      <th>1</th>\n",
              "      <td>4.9</td>\n",
              "      <td>3.0</td>\n",
              "      <td>1.4</td>\n",
              "      <td>0.2</td>\n",
              "      <td>setosa</td>\n",
              "      <td>1</td>\n",
              "      <td>0</td>\n",
              "      <td>0</td>\n",
              "    </tr>\n",
              "    <tr>\n",
              "      <th>2</th>\n",
              "      <td>4.7</td>\n",
              "      <td>3.2</td>\n",
              "      <td>1.3</td>\n",
              "      <td>0.2</td>\n",
              "      <td>setosa</td>\n",
              "      <td>1</td>\n",
              "      <td>0</td>\n",
              "      <td>0</td>\n",
              "    </tr>\n",
              "  </tbody>\n",
              "</table>\n",
              "</div>\n",
              "    <div class=\"colab-df-buttons\">\n",
              "\n",
              "  <div class=\"colab-df-container\">\n",
              "    <button class=\"colab-df-convert\" onclick=\"convertToInteractive('df-e6d8f273-9d80-41da-88c2-6ce6aacf4f72')\"\n",
              "            title=\"Convert this dataframe to an interactive table.\"\n",
              "            style=\"display:none;\">\n",
              "\n",
              "  <svg xmlns=\"http://www.w3.org/2000/svg\" height=\"24px\" viewBox=\"0 -960 960 960\">\n",
              "    <path d=\"M120-120v-720h720v720H120Zm60-500h600v-160H180v160Zm220 220h160v-160H400v160Zm0 220h160v-160H400v160ZM180-400h160v-160H180v160Zm440 0h160v-160H620v160ZM180-180h160v-160H180v160Zm440 0h160v-160H620v160Z\"/>\n",
              "  </svg>\n",
              "    </button>\n",
              "\n",
              "  <style>\n",
              "    .colab-df-container {\n",
              "      display:flex;\n",
              "      gap: 12px;\n",
              "    }\n",
              "\n",
              "    .colab-df-convert {\n",
              "      background-color: #E8F0FE;\n",
              "      border: none;\n",
              "      border-radius: 50%;\n",
              "      cursor: pointer;\n",
              "      display: none;\n",
              "      fill: #1967D2;\n",
              "      height: 32px;\n",
              "      padding: 0 0 0 0;\n",
              "      width: 32px;\n",
              "    }\n",
              "\n",
              "    .colab-df-convert:hover {\n",
              "      background-color: #E2EBFA;\n",
              "      box-shadow: 0px 1px 2px rgba(60, 64, 67, 0.3), 0px 1px 3px 1px rgba(60, 64, 67, 0.15);\n",
              "      fill: #174EA6;\n",
              "    }\n",
              "\n",
              "    .colab-df-buttons div {\n",
              "      margin-bottom: 4px;\n",
              "    }\n",
              "\n",
              "    [theme=dark] .colab-df-convert {\n",
              "      background-color: #3B4455;\n",
              "      fill: #D2E3FC;\n",
              "    }\n",
              "\n",
              "    [theme=dark] .colab-df-convert:hover {\n",
              "      background-color: #434B5C;\n",
              "      box-shadow: 0px 1px 3px 1px rgba(0, 0, 0, 0.15);\n",
              "      filter: drop-shadow(0px 1px 2px rgba(0, 0, 0, 0.3));\n",
              "      fill: #FFFFFF;\n",
              "    }\n",
              "  </style>\n",
              "\n",
              "    <script>\n",
              "      const buttonEl =\n",
              "        document.querySelector('#df-e6d8f273-9d80-41da-88c2-6ce6aacf4f72 button.colab-df-convert');\n",
              "      buttonEl.style.display =\n",
              "        google.colab.kernel.accessAllowed ? 'block' : 'none';\n",
              "\n",
              "      async function convertToInteractive(key) {\n",
              "        const element = document.querySelector('#df-e6d8f273-9d80-41da-88c2-6ce6aacf4f72');\n",
              "        const dataTable =\n",
              "          await google.colab.kernel.invokeFunction('convertToInteractive',\n",
              "                                                    [key], {});\n",
              "        if (!dataTable) return;\n",
              "\n",
              "        const docLinkHtml = 'Like what you see? Visit the ' +\n",
              "          '<a target=\"_blank\" href=https://colab.research.google.com/notebooks/data_table.ipynb>data table notebook</a>'\n",
              "          + ' to learn more about interactive tables.';\n",
              "        element.innerHTML = '';\n",
              "        dataTable['output_type'] = 'display_data';\n",
              "        await google.colab.output.renderOutput(dataTable, element);\n",
              "        const docLink = document.createElement('div');\n",
              "        docLink.innerHTML = docLinkHtml;\n",
              "        element.appendChild(docLink);\n",
              "      }\n",
              "    </script>\n",
              "  </div>\n",
              "\n",
              "\n",
              "<div id=\"df-653b7d62-558a-4823-a600-b41d768f788a\">\n",
              "  <button class=\"colab-df-quickchart\" onclick=\"quickchart('df-653b7d62-558a-4823-a600-b41d768f788a')\"\n",
              "            title=\"Suggest charts\"\n",
              "            style=\"display:none;\">\n",
              "\n",
              "<svg xmlns=\"http://www.w3.org/2000/svg\" height=\"24px\"viewBox=\"0 0 24 24\"\n",
              "     width=\"24px\">\n",
              "    <g>\n",
              "        <path d=\"M19 3H5c-1.1 0-2 .9-2 2v14c0 1.1.9 2 2 2h14c1.1 0 2-.9 2-2V5c0-1.1-.9-2-2-2zM9 17H7v-7h2v7zm4 0h-2V7h2v10zm4 0h-2v-4h2v4z\"/>\n",
              "    </g>\n",
              "</svg>\n",
              "  </button>\n",
              "\n",
              "<style>\n",
              "  .colab-df-quickchart {\n",
              "      --bg-color: #E8F0FE;\n",
              "      --fill-color: #1967D2;\n",
              "      --hover-bg-color: #E2EBFA;\n",
              "      --hover-fill-color: #174EA6;\n",
              "      --disabled-fill-color: #AAA;\n",
              "      --disabled-bg-color: #DDD;\n",
              "  }\n",
              "\n",
              "  [theme=dark] .colab-df-quickchart {\n",
              "      --bg-color: #3B4455;\n",
              "      --fill-color: #D2E3FC;\n",
              "      --hover-bg-color: #434B5C;\n",
              "      --hover-fill-color: #FFFFFF;\n",
              "      --disabled-bg-color: #3B4455;\n",
              "      --disabled-fill-color: #666;\n",
              "  }\n",
              "\n",
              "  .colab-df-quickchart {\n",
              "    background-color: var(--bg-color);\n",
              "    border: none;\n",
              "    border-radius: 50%;\n",
              "    cursor: pointer;\n",
              "    display: none;\n",
              "    fill: var(--fill-color);\n",
              "    height: 32px;\n",
              "    padding: 0;\n",
              "    width: 32px;\n",
              "  }\n",
              "\n",
              "  .colab-df-quickchart:hover {\n",
              "    background-color: var(--hover-bg-color);\n",
              "    box-shadow: 0 1px 2px rgba(60, 64, 67, 0.3), 0 1px 3px 1px rgba(60, 64, 67, 0.15);\n",
              "    fill: var(--button-hover-fill-color);\n",
              "  }\n",
              "\n",
              "  .colab-df-quickchart-complete:disabled,\n",
              "  .colab-df-quickchart-complete:disabled:hover {\n",
              "    background-color: var(--disabled-bg-color);\n",
              "    fill: var(--disabled-fill-color);\n",
              "    box-shadow: none;\n",
              "  }\n",
              "\n",
              "  .colab-df-spinner {\n",
              "    border: 2px solid var(--fill-color);\n",
              "    border-color: transparent;\n",
              "    border-bottom-color: var(--fill-color);\n",
              "    animation:\n",
              "      spin 1s steps(1) infinite;\n",
              "  }\n",
              "\n",
              "  @keyframes spin {\n",
              "    0% {\n",
              "      border-color: transparent;\n",
              "      border-bottom-color: var(--fill-color);\n",
              "      border-left-color: var(--fill-color);\n",
              "    }\n",
              "    20% {\n",
              "      border-color: transparent;\n",
              "      border-left-color: var(--fill-color);\n",
              "      border-top-color: var(--fill-color);\n",
              "    }\n",
              "    30% {\n",
              "      border-color: transparent;\n",
              "      border-left-color: var(--fill-color);\n",
              "      border-top-color: var(--fill-color);\n",
              "      border-right-color: var(--fill-color);\n",
              "    }\n",
              "    40% {\n",
              "      border-color: transparent;\n",
              "      border-right-color: var(--fill-color);\n",
              "      border-top-color: var(--fill-color);\n",
              "    }\n",
              "    60% {\n",
              "      border-color: transparent;\n",
              "      border-right-color: var(--fill-color);\n",
              "    }\n",
              "    80% {\n",
              "      border-color: transparent;\n",
              "      border-right-color: var(--fill-color);\n",
              "      border-bottom-color: var(--fill-color);\n",
              "    }\n",
              "    90% {\n",
              "      border-color: transparent;\n",
              "      border-bottom-color: var(--fill-color);\n",
              "    }\n",
              "  }\n",
              "</style>\n",
              "\n",
              "  <script>\n",
              "    async function quickchart(key) {\n",
              "      const quickchartButtonEl =\n",
              "        document.querySelector('#' + key + ' button');\n",
              "      quickchartButtonEl.disabled = true;  // To prevent multiple clicks.\n",
              "      quickchartButtonEl.classList.add('colab-df-spinner');\n",
              "      try {\n",
              "        const charts = await google.colab.kernel.invokeFunction(\n",
              "            'suggestCharts', [key], {});\n",
              "      } catch (error) {\n",
              "        console.error('Error during call to suggestCharts:', error);\n",
              "      }\n",
              "      quickchartButtonEl.classList.remove('colab-df-spinner');\n",
              "      quickchartButtonEl.classList.add('colab-df-quickchart-complete');\n",
              "    }\n",
              "    (() => {\n",
              "      let quickchartButtonEl =\n",
              "        document.querySelector('#df-653b7d62-558a-4823-a600-b41d768f788a button');\n",
              "      quickchartButtonEl.style.display =\n",
              "        google.colab.kernel.accessAllowed ? 'block' : 'none';\n",
              "    })();\n",
              "  </script>\n",
              "</div>\n",
              "    </div>\n",
              "  </div>\n"
            ]
          },
          "metadata": {},
          "execution_count": 6
        }
      ]
    },
    {
      "cell_type": "code",
      "source": [
        "X = df.iloc[:, 0:4]\n",
        "y = df.loc[:, ['setosa', 'versicolor', 'virginica']]\n",
        "print('features= ', list(X.columns), '\\nlabels= ', list(y.columns))"
      ],
      "metadata": {
        "colab": {
          "base_uri": "https://localhost:8080/"
        },
        "id": "o6R0oFNF6ylf",
        "outputId": "bbaace17-d048-4826-95e1-0e0e476c8d94"
      },
      "execution_count": null,
      "outputs": [
        {
          "output_type": "stream",
          "name": "stdout",
          "text": [
            "features=  ['sepal_length', 'sepal_width', 'petal_length', 'petal_width'] \n",
            "labels=  ['setosa', 'versicolor', 'virginica']\n"
          ]
        }
      ]
    },
    {
      "cell_type": "code",
      "source": [
        "from sklearn.model_selection import train_test_split\n",
        "\n",
        "X_train, X_test, y_train, y_test = train_test_split(X, y, test_size=0.2, random_state=0)"
      ],
      "metadata": {
        "id": "ij5vXi_WzS-m"
      },
      "execution_count": null,
      "outputs": []
    },
    {
      "cell_type": "code",
      "source": [
        "import numpy as np\n",
        "import matplotlib.pyplot as plt\n",
        "from sklearn.metrics import accuracy_score"
      ],
      "metadata": {
        "id": "81wyoUfL4fXK"
      },
      "execution_count": null,
      "outputs": []
    },
    {
      "cell_type": "markdown",
      "source": [
        "# Let the learning begin (SGD)"
      ],
      "metadata": {
        "id": "Ge0yo_sE009U"
      }
    },
    {
      "cell_type": "code",
      "source": [
        "my_net = NeuralNetwork([4,10,10,3], ['relu', 'relu', 'relu'])\n",
        "learning_rate = 0.001\n",
        "error_before = []\n",
        "error_after = []\n",
        "for u in range(300_000):\n",
        "  i = np.random.choice(X_train.index)\n",
        "\n",
        "  example = X_train.loc[i, :]\n",
        "  label = y_train.loc[i, :]\n",
        "\n",
        "  x = example.astype(float).to_numpy().reshape((4,1))\n",
        "  y = label.astype(float).to_numpy().reshape((3,1))\n",
        "\n",
        "  y_hat = my_net.forward_pass(x)\n",
        "  deltas = my_net.backward_pass(y_hat, y)\n",
        "\n",
        "  my_net.update_weights(y_hat, deltas, learning_rate)\n",
        "  my_net.update_biases(deltas, learning_rate)\n",
        "\n",
        "  y_hat2 = my_net.forward_pass(x)\n",
        "\n",
        "  error_before.append(sum((y_hat[-1] - y)**2))\n",
        "  error_after.append(sum((y_hat2[-1] - y)**2))\n",
        "\n",
        "  if u % 5000 == 0:\n",
        "      print(f'iteration {u} error before {sum((y_hat[-1] - y)**2)} error after {sum((y_hat2[-1] - y)**2)}')\n",
        "\n",
        "plt.plot(error_before[10000::5000], '--')\n",
        "plt.plot(error_after[10000::5000], 'k.--')"
      ],
      "metadata": {
        "colab": {
          "base_uri": "https://localhost:8080/",
          "height": 1000
        },
        "id": "DGXxcxCf0ulR",
        "outputId": "4b7c0551-fca5-4952-d25e-8a44b9335a53"
      },
      "execution_count": null,
      "outputs": [
        {
          "output_type": "stream",
          "name": "stdout",
          "text": [
            "iteration 0 error before [37.52108632] error after [18.3315814]\n",
            "iteration 5000 error before [0.06304379] error after [0.05405302]\n",
            "iteration 10000 error before [0.40012009] error after [0.26887435]\n",
            "iteration 15000 error before [0.69585762] error after [0.38438679]\n",
            "iteration 20000 error before [0.02026721] error after [0.01724823]\n",
            "iteration 25000 error before [0.00403627] error after [0.00373192]\n",
            "iteration 30000 error before [0.02138151] error after [0.01975976]\n",
            "iteration 35000 error before [0.00381383] error after [0.00328808]\n",
            "iteration 40000 error before [0.01480273] error after [0.01266132]\n",
            "iteration 45000 error before [0.00179877] error after [0.00125122]\n",
            "iteration 50000 error before [0.00069118] error after [0.00059931]\n",
            "iteration 55000 error before [0.12440826] error after [0.08552798]\n",
            "iteration 60000 error before [0.00076659] error after [0.00057816]\n",
            "iteration 65000 error before [0.50429842] error after [0.35979871]\n",
            "iteration 70000 error before [0.00276983] error after [0.00256156]\n",
            "iteration 75000 error before [0.00427852] error after [0.00379723]\n",
            "iteration 80000 error before [0.24104396] error after [0.10544974]\n",
            "iteration 85000 error before [0.02375841] error after [0.02113734]\n",
            "iteration 90000 error before [0.32295021] error after [0.24303384]\n",
            "iteration 95000 error before [0.00285962] error after [0.00206575]\n",
            "iteration 100000 error before [0.0079595] error after [0.00729245]\n",
            "iteration 105000 error before [0.33766385] error after [0.15478081]\n",
            "iteration 110000 error before [0.00593647] error after [0.00530627]\n",
            "iteration 115000 error before [0.0063966] error after [0.00592414]\n",
            "iteration 120000 error before [0.00015878] error after [0.00014656]\n",
            "iteration 125000 error before [0.06502078] error after [0.05225486]\n",
            "iteration 130000 error before [0.00421045] error after [0.00395235]\n",
            "iteration 135000 error before [3.58707071e-05] error after [3.0795683e-05]\n",
            "iteration 140000 error before [0.00700548] error after [0.00625342]\n",
            "iteration 145000 error before [0.00381296] error after [0.00331759]\n",
            "iteration 150000 error before [0.19785039] error after [0.16234907]\n",
            "iteration 155000 error before [0.00362522] error after [0.00333964]\n",
            "iteration 160000 error before [0.00304052] error after [0.0026746]\n",
            "iteration 165000 error before [0.0141099] error after [0.0129878]\n",
            "iteration 170000 error before [0.00119601] error after [0.0011003]\n",
            "iteration 175000 error before [8.69263461e-06] error after [7.57509226e-06]\n",
            "iteration 180000 error before [0.00106883] error after [0.00089608]\n",
            "iteration 185000 error before [0.00102115] error after [0.00084676]\n",
            "iteration 190000 error before [0.02371135] error after [0.02157933]\n",
            "iteration 195000 error before [0.00188231] error after [0.00176903]\n",
            "iteration 200000 error before [0.00231893] error after [0.00215294]\n",
            "iteration 205000 error before [0.00067037] error after [0.00056886]\n",
            "iteration 210000 error before [0.25651477] error after [0.19344002]\n",
            "iteration 215000 error before [0.00887425] error after [0.00828772]\n",
            "iteration 220000 error before [0.00227952] error after [0.00198906]\n",
            "iteration 225000 error before [3.90418851e-07] error after [3.292943e-07]\n",
            "iteration 230000 error before [8.51187317e-05] error after [8.03236248e-05]\n",
            "iteration 235000 error before [0.01423452] error after [0.01316973]\n",
            "iteration 240000 error before [0.00149587] error after [0.00131397]\n",
            "iteration 245000 error before [0.00435541] error after [0.00391017]\n",
            "iteration 250000 error before [0.00540212] error after [0.00478486]\n",
            "iteration 255000 error before [4.26879587e-06] error after [3.72109903e-06]\n",
            "iteration 260000 error before [0.00067593] error after [0.00061468]\n",
            "iteration 265000 error before [0.1551829] error after [0.09359358]\n",
            "iteration 270000 error before [0.00065232] error after [0.00054481]\n",
            "iteration 275000 error before [0.01349974] error after [0.01205915]\n",
            "iteration 280000 error before [0.00799598] error after [0.00767704]\n",
            "iteration 285000 error before [0.00099978] error after [0.00083666]\n",
            "iteration 290000 error before [0.01201134] error after [0.01090608]\n",
            "iteration 295000 error before [7.09243529e-06] error after [5.51071077e-06]\n"
          ]
        },
        {
          "output_type": "execute_result",
          "data": {
            "text/plain": [
              "[<matplotlib.lines.Line2D at 0x7dbec8c84160>]"
            ]
          },
          "metadata": {},
          "execution_count": 14
        },
        {
          "output_type": "display_data",
          "data": {
            "text/plain": [
              "<Figure size 640x480 with 1 Axes>"
            ],
            "image/png": "[encoded data removed]"
          },
          "metadata": {}
        }
      ]
    },
    {
      "cell_type": "markdown",
      "source": [
        "# Score on train data"
      ],
      "metadata": {
        "id": "7HEeeilP6EeC"
      }
    },
    {
      "cell_type": "code",
      "source": [
        "normalized_labels = []\n",
        "normalized_predictions = []\n",
        "\n",
        "for i in X_train.index:\n",
        "    example = X_train.loc[i, :]\n",
        "    label = y_train.loc[i, :]\n",
        "    x = example.astype(float).to_numpy().reshape((4,1))\n",
        "    y = label.astype(float).to_numpy().reshape((3,1))\n",
        "    y_hat = my_net.forward_pass(x)\n",
        "    normalized_label = [bool(x) for x in label.to_list()]\n",
        "    normalized_prediction = list((y_hat[-1]==max(y_hat[-1])).ravel())\n",
        "    normalized_labels.append(normalized_label)\n",
        "    normalized_predictions.append(normalized_prediction)\n",
        "\n",
        "acc = accuracy_score(normalized_labels, normalized_predictions)\n",
        "print(acc)"
      ],
      "metadata": {
        "colab": {
          "base_uri": "https://localhost:8080/"
        },
        "id": "TX-XreLU01qY",
        "outputId": "fcaa7678-28b3-4f99-a0b2-cbe5b800548a"
      },
      "execution_count": null,
      "outputs": [
        {
          "output_type": "stream",
          "name": "stdout",
          "text": [
            "0.9916666666666667\n"
          ]
        }
      ]
    },
    {
      "cell_type": "markdown",
      "source": [
        "# Score on test data"
      ],
      "metadata": {
        "id": "bPIubfYM6G8D"
      }
    },
    {
      "cell_type": "code",
      "source": [
        "\n",
        "normalized_labels = []\n",
        "normalized_predictions = []\n",
        "\n",
        "for i in X_test.index:\n",
        "    example = X_test.loc[i, :]\n",
        "    label = y_test.loc[i, :]\n",
        "    x = example.astype(float).to_numpy().reshape((4,1))\n",
        "    y = label.astype(float).to_numpy().reshape((3,1))\n",
        "    y_hat = my_net.forward_pass(x)\n",
        "    normalized_label = [bool(x) for x in label.to_list()]\n",
        "    normalized_prediction = list((y_hat[-1]==max(y_hat[-1])).ravel())\n",
        "    normalized_labels.append(normalized_label)\n",
        "    normalized_predictions.append(normalized_prediction)\n",
        "\n",
        "acc = accuracy_score(normalized_labels, normalized_predictions)\n",
        "print(acc)"
      ],
      "metadata": {
        "colab": {
          "base_uri": "https://localhost:8080/"
        },
        "id": "kieAceAx6IaM",
        "outputId": "f3338825-7b1a-4108-d2d6-9197c0dc5a96"
      },
      "execution_count": null,
      "outputs": [
        {
          "output_type": "stream",
          "name": "stdout",
          "text": [
            "1.0\n"
          ]
        }
      ]
    },
    {
      "cell_type": "code",
      "source": [
        "# from sklearn.metrics import multilabel_confusion_matrix\n",
        "my_net.weights"
      ],
      "metadata": {
        "colab": {
          "base_uri": "https://localhost:8080/"
        },
        "id": "VTauaL1IBW9-",
        "outputId": "b369ca8a-4c27-4163-de11-3a903becadd8"
      },
      "execution_count": null,
      "outputs": [
        {
          "output_type": "execute_result",
          "data": {
            "text/plain": [
              "[nan,\n",
              " array([[-0.48319987,  0.41591316, -0.07044323, -0.99685355],\n",
              "        [-0.81087614, -0.57860047,  0.39396169, -0.90117737],\n",
              "        [ 0.5638826 ,  0.8467719 , -0.05081161, -1.14810223],\n",
              "        [-0.01039802, -0.15342518, -0.25208379,  0.84778692],\n",
              "        [ 0.47420532, -0.62978649,  0.01484925, -0.9194056 ],\n",
              "        [ 0.111348  , -0.48387328, -0.92028365,  0.94257403],\n",
              "        [-0.80897088,  0.37587684,  0.35667661,  0.46884875],\n",
              "        [ 0.05538118,  0.17503216, -0.92473204, -0.31564399],\n",
              "        [ 0.4554186 , -0.22342288, -0.67715246, -0.78358952],\n",
              "        [-0.04981807, -0.65897665,  1.15895974,  0.37481805]]),\n",
              " array([[ 0.17378608,  0.70474587,  0.7561494 , -0.22512714, -0.17892268,\n",
              "          0.50401166, -0.29047226, -0.88847109, -0.17880598, -0.89783169],\n",
              "        [ 0.80253799,  0.12033352,  0.31854551, -0.33801822,  0.20865268,\n",
              "          0.90668734,  0.87451028,  0.28510901, -0.62295971, -0.94479099],\n",
              "        [ 0.39748642, -0.60192985, -0.35253469, -0.71456511, -0.6166439 ,\n",
              "          0.62142352, -0.0102762 , -0.69957274, -0.57303453, -0.22388684],\n",
              "        [-0.21176645,  0.4865268 ,  0.55673205, -0.65925794, -0.57222227,\n",
              "         -0.50925163, -0.93001522,  0.11393181, -0.26330005,  0.2103388 ],\n",
              "        [-0.72968073,  0.38747267,  0.26599224,  0.80653939, -1.13387972,\n",
              "          0.3634688 ,  0.21711549,  0.56051776, -0.2841379 ,  0.48622595],\n",
              "        [-0.33740274,  0.86488215, -0.87379556, -0.54613865, -0.3366496 ,\n",
              "          0.61189859, -0.65798983, -0.67671557, -0.97655986,  0.3295766 ],\n",
              "        [ 0.23141279,  0.11076769, -0.72807596,  0.33237825, -0.97693537,\n",
              "         -0.92928913,  0.86191226,  0.80155307, -0.23173462,  0.06590972],\n",
              "        [ 0.09959632, -0.90495142, -0.74551375, -0.10921825, -0.68941157,\n",
              "          0.99547799, -0.76105794, -0.82725348,  0.26795488, -0.32479231],\n",
              "        [ 0.67329336,  0.28959988, -0.49240552, -0.37662594, -0.67857598,\n",
              "          0.49505182, -0.6863142 , -0.44404873,  0.51039081,  0.64554267],\n",
              "        [-0.5142091 ,  0.43820724, -0.54559045, -0.89807972,  0.3240444 ,\n",
              "          0.21854256, -0.00315111, -0.00379799, -0.60605871,  0.40937892]]),\n",
              " array([[ 0.82803445, -0.21296833, -0.93265589, -1.02325416,  0.23478548,\n",
              "         -0.99836414, -0.98210635,  0.49995689,  0.89946228, -0.65991919],\n",
              "        [ 0.30638674, -0.77233802, -0.63548613, -0.62493542,  0.36073022,\n",
              "          0.67944073,  0.69665721,  0.64858446, -1.23674363,  0.51087985],\n",
              "        [-0.91661687,  0.54359096, -0.86737682,  0.0696738 ,  0.25352727,\n",
              "         -0.35425686, -0.7175687 ,  0.06154323,  0.19422992,  0.79429465]])]"
            ]
          },
          "metadata": {},
          "execution_count": 17
        }
      ]
    },
    {
      "cell_type": "code",
      "source": [
        "my_net.betas"
      ],
      "metadata": {
        "colab": {
          "base_uri": "https://localhost:8080/"
        },
        "id": "NdHmMi-2p4IU",
        "outputId": "1e78ab48-8deb-43e5-ea49-553233914852"
      },
      "execution_count": null,
      "outputs": [
        {
          "output_type": "execute_result",
          "data": {
            "text/plain": [
              "[nan,\n",
              " array([[ 0.99063854],\n",
              "        [-0.26634278],\n",
              "        [-0.07575106],\n",
              "        [-0.80920222],\n",
              "        [ 0.51864243],\n",
              "        [ 0.12011053],\n",
              "        [ 0.2011714 ],\n",
              "        [ 0.04175298],\n",
              "        [-0.78152585],\n",
              "        [-0.69968366]]),\n",
              " array([[ 0.45023934],\n",
              "        [ 0.59338854],\n",
              "        [ 0.97957647],\n",
              "        [-0.80034522],\n",
              "        [-0.12496914],\n",
              "        [-0.83633814],\n",
              "        [ 0.77405598],\n",
              "        [ 0.42949554],\n",
              "        [ 0.08142963],\n",
              "        [-0.86663627]]),\n",
              " array([[-0.36941464],\n",
              "        [ 1.14876922],\n",
              "        [-0.06305612]])]"
            ]
          },
          "metadata": {},
          "execution_count": 19
        }
      ]
    },
    {
      "cell_type": "code",
      "source": [
        "# multilabel_confusion_matrix(np.array(normalized_labels), np.array(normalized_predictions), labels=['setosa', 'versicolor', 'virginica'])"
      ],
      "metadata": {
        "id": "c_7clqhPPccs"
      },
      "execution_count": null,
      "outputs": []
    },
    {
      "cell_type": "code",
      "source": [
        "normalized_labels"
      ],
      "metadata": {
        "colab": {
          "base_uri": "https://localhost:8080/"
        },
        "id": "0XDnEhyfPi_x",
        "outputId": "ca416c02-d748-4bc8-8c10-066fcdaaf817"
      },
      "execution_count": null,
      "outputs": [
        {
          "output_type": "execute_result",
          "data": {
            "text/plain": [
              "[[False, False, True],\n",
              " [False, True, False],\n",
              " [True, False, False],\n",
              " [False, False, True],\n",
              " [True, False, False],\n",
              " [False, False, True],\n",
              " [True, False, False],\n",
              " [False, True, False],\n",
              " [False, True, False],\n",
              " [False, True, False],\n",
              " [False, False, True],\n",
              " [False, True, False],\n",
              " [False, True, False],\n",
              " [False, True, False],\n",
              " [False, True, False],\n",
              " [True, False, False],\n",
              " [False, True, False],\n",
              " [False, True, False],\n",
              " [True, False, False],\n",
              " [True, False, False],\n",
              " [False, False, True],\n",
              " [False, True, False],\n",
              " [True, False, False],\n",
              " [True, False, False],\n",
              " [False, False, True],\n",
              " [True, False, False],\n",
              " [True, False, False],\n",
              " [False, True, False],\n",
              " [False, True, False],\n",
              " [True, False, False]]"
            ]
          },
          "metadata": {},
          "execution_count": 72
        }
      ]
    },
    {
      "cell_type": "code",
      "source": [
        "normalized_predictions"
      ],
      "metadata": {
        "colab": {
          "base_uri": "https://localhost:8080/"
        },
        "id": "GCGmxNDaIj9K",
        "outputId": "eb7911ac-75c2-4fc8-a38f-a86a8f3bfb79"
      },
      "execution_count": null,
      "outputs": [
        {
          "output_type": "execute_result",
          "data": {
            "text/plain": [
              "[[False, False, True],\n",
              " [False, False, True],\n",
              " [False, False, True],\n",
              " [False, False, True],\n",
              " [False, False, True],\n",
              " [False, False, True],\n",
              " [False, False, True],\n",
              " [False, False, True],\n",
              " [False, False, True],\n",
              " [False, False, True],\n",
              " [False, False, True],\n",
              " [False, False, True],\n",
              " [False, False, True],\n",
              " [False, False, True],\n",
              " [False, False, True],\n",
              " [False, False, True],\n",
              " [False, False, True],\n",
              " [False, False, True],\n",
              " [False, False, True],\n",
              " [False, False, True],\n",
              " [False, False, True],\n",
              " [False, False, True],\n",
              " [False, False, True],\n",
              " [False, False, True],\n",
              " [False, False, True],\n",
              " [False, False, True],\n",
              " [False, False, True],\n",
              " [False, False, True],\n",
              " [False, False, True],\n",
              " [False, False, True]]"
            ]
          },
          "metadata": {},
          "execution_count": 73
        }
      ]
    },
    {
      "cell_type": "code",
      "source": [
        "! cd gdrive"
      ],
      "metadata": {
        "id": "vhkEA9J-uqqD"
      },
      "execution_count": null,
      "outputs": []
    },
    {
      "cell_type": "code",
      "source": [
        "import os\n",
        "os.listdir('gdrive')"
      ],
      "metadata": {
        "colab": {
          "base_uri": "https://localhost:8080/"
        },
        "id": "IkERX4GhIl6i",
        "outputId": "ba8b8f12-0c58-4273-8c96-5860131956b0"
      },
      "execution_count": null,
      "outputs": [
        {
          "output_type": "execute_result",
          "data": {
            "text/plain": [
              "['.shortcut-targets-by-id', '.file-revisions-by-id', 'MyDrive', '.Trash-0']"
            ]
          },
          "metadata": {},
          "execution_count": 43
        }
      ]
    },
    {
      "cell_type": "code",
      "source": [
        "import pickle\n",
        "with open('/content/gdrive/MyDrive/iris_estim.pkl', 'wb') as f:\n",
        "    pickle.dump(my_net, f)"
      ],
      "metadata": {
        "id": "fdL1MT0WI5C4"
      },
      "execution_count": null,
      "outputs": []
    },
    {
      "cell_type": "code",
      "source": [
        "with open('/content/gdrive/MyDrive/iris_estim.pkl', 'rb') as f:\n",
        "    loaded_net = pickle.load(f)\n",
        "\n",
        "print(loaded_net.weights)\n",
        "print(loaded_net.betas)"
      ],
      "metadata": {
        "colab": {
          "base_uri": "https://localhost:8080/"
        },
        "id": "rUSYP-zsqN4t",
        "outputId": "259fe568-2220-42b8-d2cb-a1497bc19df2"
      },
      "execution_count": null,
      "outputs": [
        {
          "output_type": "stream",
          "name": "stdout",
          "text": [
            "[nan, array([[-0.48319987,  0.41591316, -0.07044323, -0.99685355],\n",
            "       [-0.81087614, -0.57860047,  0.39396169, -0.90117737],\n",
            "       [ 0.5638826 ,  0.8467719 , -0.05081161, -1.14810223],\n",
            "       [-0.01039802, -0.15342518, -0.25208379,  0.84778692],\n",
            "       [ 0.47420532, -0.62978649,  0.01484925, -0.9194056 ],\n",
            "       [ 0.111348  , -0.48387328, -0.92028365,  0.94257403],\n",
            "       [-0.80897088,  0.37587684,  0.35667661,  0.46884875],\n",
            "       [ 0.05538118,  0.17503216, -0.92473204, -0.31564399],\n",
            "       [ 0.4554186 , -0.22342288, -0.67715246, -0.78358952],\n",
            "       [-0.04981807, -0.65897665,  1.15895974,  0.37481805]]), array([[ 0.17378608,  0.70474587,  0.7561494 , -0.22512714, -0.17892268,\n",
            "         0.50401166, -0.29047226, -0.88847109, -0.17880598, -0.89783169],\n",
            "       [ 0.80253799,  0.12033352,  0.31854551, -0.33801822,  0.20865268,\n",
            "         0.90668734,  0.87451028,  0.28510901, -0.62295971, -0.94479099],\n",
            "       [ 0.39748642, -0.60192985, -0.35253469, -0.71456511, -0.6166439 ,\n",
            "         0.62142352, -0.0102762 , -0.69957274, -0.57303453, -0.22388684],\n",
            "       [-0.21176645,  0.4865268 ,  0.55673205, -0.65925794, -0.57222227,\n",
            "        -0.50925163, -0.93001522,  0.11393181, -0.26330005,  0.2103388 ],\n",
            "       [-0.72968073,  0.38747267,  0.26599224,  0.80653939, -1.13387972,\n",
            "         0.3634688 ,  0.21711549,  0.56051776, -0.2841379 ,  0.48622595],\n",
            "       [-0.33740274,  0.86488215, -0.87379556, -0.54613865, -0.3366496 ,\n",
            "         0.61189859, -0.65798983, -0.67671557, -0.97655986,  0.3295766 ],\n",
            "       [ 0.23141279,  0.11076769, -0.72807596,  0.33237825, -0.97693537,\n",
            "        -0.92928913,  0.86191226,  0.80155307, -0.23173462,  0.06590972],\n",
            "       [ 0.09959632, -0.90495142, -0.74551375, -0.10921825, -0.68941157,\n",
            "         0.99547799, -0.76105794, -0.82725348,  0.26795488, -0.32479231],\n",
            "       [ 0.67329336,  0.28959988, -0.49240552, -0.37662594, -0.67857598,\n",
            "         0.49505182, -0.6863142 , -0.44404873,  0.51039081,  0.64554267],\n",
            "       [-0.5142091 ,  0.43820724, -0.54559045, -0.89807972,  0.3240444 ,\n",
            "         0.21854256, -0.00315111, -0.00379799, -0.60605871,  0.40937892]]), array([[ 0.82803445, -0.21296833, -0.93265589, -1.02325416,  0.23478548,\n",
            "        -0.99836414, -0.98210635,  0.49995689,  0.89946228, -0.65991919],\n",
            "       [ 0.30638674, -0.77233802, -0.63548613, -0.62493542,  0.36073022,\n",
            "         0.67944073,  0.69665721,  0.64858446, -1.23674363,  0.51087985],\n",
            "       [-0.91661687,  0.54359096, -0.86737682,  0.0696738 ,  0.25352727,\n",
            "        -0.35425686, -0.7175687 ,  0.06154323,  0.19422992,  0.79429465]])]\n",
            "[nan, array([[ 0.99063854],\n",
            "       [-0.26634278],\n",
            "       [-0.07575106],\n",
            "       [-0.80920222],\n",
            "       [ 0.51864243],\n",
            "       [ 0.12011053],\n",
            "       [ 0.2011714 ],\n",
            "       [ 0.04175298],\n",
            "       [-0.78152585],\n",
            "       [-0.69968366]]), array([[ 0.45023934],\n",
            "       [ 0.59338854],\n",
            "       [ 0.97957647],\n",
            "       [-0.80034522],\n",
            "       [-0.12496914],\n",
            "       [-0.83633814],\n",
            "       [ 0.77405598],\n",
            "       [ 0.42949554],\n",
            "       [ 0.08142963],\n",
            "       [-0.86663627]]), array([[-0.36941464],\n",
            "       [ 1.14876922],\n",
            "       [-0.06305612]])]\n"
          ]
        }
      ]
    },
    {
      "cell_type": "code",
      "source": [
        "example_setosa = np.array([[5.1,\t3.5,\t1.4,\t0.2]]).reshape((4,1))\n",
        "loaded_net.forward_pass(example_setosa)"
      ],
      "metadata": {
        "colab": {
          "base_uri": "https://localhost:8080/"
        },
        "id": "FR4Q8Mb7qXtj",
        "outputId": "95520b18-29db-4306-9c82-98ee2f950315"
      },
      "execution_count": null,
      "outputs": [
        {
          "output_type": "execute_result",
          "data": {
            "text/plain": [
              "[array([[5.1],\n",
              "        [3.5],\n",
              "        [1.4],\n",
              "        [0.2]]),\n",
              " array([[0.        ],\n",
              "        [0.        ],\n",
              "        [5.46299517],\n",
              "        [0.        ],\n",
              "        [0.56974467],\n",
              "        [0.        ],\n",
              "        [0.        ],\n",
              "        [0.        ],\n",
              "        [0.        ],\n",
              "        [0.        ]]),\n",
              " array([[4.4791396 ],\n",
              "        [2.45247986],\n",
              "        [0.        ],\n",
              "        [1.91505871],\n",
              "        [0.68212326],\n",
              "        [0.        ],\n",
              "        [0.        ],\n",
              "        [0.        ],\n",
              "        [0.        ],\n",
              "        [0.        ]]),\n",
              " array([[1.01772757],\n",
              "        [0.        ],\n",
              "        [0.        ]])]"
            ]
          },
          "metadata": {},
          "execution_count": 47
        }
      ]
    },
    {
      "cell_type": "code",
      "source": [
        "!ls"
      ],
      "metadata": {
        "colab": {
          "base_uri": "https://localhost:8080/"
        },
        "id": "xWVvEEA9rhC1",
        "outputId": "f3e52842-732a-4853-d427-40d447a1ac17"
      },
      "execution_count": null,
      "outputs": [
        {
          "output_type": "stream",
          "name": "stdout",
          "text": [
            "gdrive\tiris_estim.pkl\tsample_data\n"
          ]
        }
      ]
    },
    {
      "cell_type": "code",
      "source": [
        "!pwd"
      ],
      "metadata": {
        "colab": {
          "base_uri": "https://localhost:8080/"
        },
        "id": "Ez_jgiqmt3_x",
        "outputId": "719412d0-b74e-4eb8-aff0-9b98081ee949"
      },
      "execution_count": null,
      "outputs": [
        {
          "output_type": "stream",
          "name": "stdout",
          "text": [
            "/content\n"
          ]
        }
      ]
    },
    {
      "cell_type": "code",
      "source": [],
      "metadata": {
        "id": "v7vIzYrAuQnN"
      },
      "execution_count": null,
      "outputs": []
    }
  ]
}